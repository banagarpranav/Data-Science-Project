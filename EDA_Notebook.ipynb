{
 "cells": [
  {
   "cell_type": "markdown",
   "id": "a5e313b2",
   "metadata": {},
   "source": [
    "# <center>Data Science Project</center>\n"
   ]
  },
  {
   "cell_type": "markdown",
   "id": "2a809aaf",
   "metadata": {},
   "source": [
    "## Title\n",
    "Business Intelligence For Cloud Kitchens Based On Food Delivery App Data "
   ]
  },
  {
   "cell_type": "markdown",
   "id": "a2fb6c10",
   "metadata": {},
   "source": [
    "## Team "
   ]
  },
  {
   "cell_type": "markdown",
   "id": "4e0d0923",
   "metadata": {},
   "source": [
    "Ajay VH, Pranav Banagar, Aviral Mishra, Ishita Jain, Amit Bharadwaj"
   ]
  },
  {
   "cell_type": "markdown",
   "id": "ada7a2bc",
   "metadata": {},
   "source": [
    "## Description"
   ]
  },
  {
   "cell_type": "markdown",
   "id": "44125aa9",
   "metadata": {},
   "source": [
    "Resturant and food delivery business is highly competitive and profit margins are often tight. Data driven service can help reduce costs and wastage of food while also helping businesses increase profits. Food delivery apps are an excellent source of vast amounts of data that can be mined for valuable information for important business decisions. Swiggy and Zomato combined make up 80% the food delivery market space in major metro cities in India. Data aggregated from these two companies can reliably represent the oevrall trends in the market. This exploratory data analysis aims to paint a picture on the overall market landscape to help an entity that is about to enter the market. Required data is obtained from Kaggle datasets. "
   ]
  },
  {
   "cell_type": "markdown",
   "id": "81a09c08",
   "metadata": {},
   "source": [
    "## Datasets"
   ]
  },
  {
   "cell_type": "markdown",
   "id": "07946953",
   "metadata": {},
   "source": [
    "Swiggy : https://www.kaggle.com/datasets/aniruddhapa/swiggy-restaurants-dataset-of-metro-cities\n",
    "\n",
    "Zomato : https://www.kaggle.com/datasets/pranavuikey/zomato-eda"
   ]
  },
  {
   "cell_type": "markdown",
   "id": "6273e4d1",
   "metadata": {},
   "source": [
    "## Objectives"
   ]
  },
  {
   "cell_type": "markdown",
   "id": "1be66834",
   "metadata": {},
   "source": [
    "Swiggy and Zomato data sets are used to extract market insights through an exploratory data analysis. The goal is to find actionable insights to aid in the formulation of a business plan for a new food delivery business. "
   ]
  },
  {
   "cell_type": "markdown",
   "id": "fca0f01f",
   "metadata": {},
   "source": [
    "## Importing Libraries "
   ]
  },
  {
   "cell_type": "code",
   "execution_count": 27,
   "id": "07e2f062",
   "metadata": {},
   "outputs": [],
   "source": [
    "import pandas as pd\n",
    "import numpy as np \n",
    "import seaborn as sns\n",
    "import matplotlib.pyplot as plt\n",
    "import re\n",
    "%matplotlib inline\n",
    "\n",
    "import os\n",
    "for dirname, _, filenames in os.walk('/kaggle/input'):\n",
    "    for filename in filenames:\n",
    "        print(os.path.join(dirname, filename))"
   ]
  },
  {
   "cell_type": "markdown",
   "id": "46a40ce9",
   "metadata": {},
   "source": [
    "## Loading dataframes"
   ]
  },
  {
   "cell_type": "code",
   "execution_count": 19,
   "id": "62369c53",
   "metadata": {},
   "outputs": [],
   "source": [
    "swiggy_df = pd.read_csv('Swiggy.csv')"
   ]
  },
  {
   "cell_type": "code",
   "execution_count": 20,
   "id": "c50b1572",
   "metadata": {
    "scrolled": true
   },
   "outputs": [
    {
     "name": "stdout",
     "output_type": "stream",
     "text": [
      "(8691, 18)\n",
      "Index(['type', 'id', 'name', 'uuid', 'city', 'area', 'avgRating',\n",
      "       'totalRatingsString', 'cuisines', 'costForTwoStrings', 'deliveryTime',\n",
      "       'minDeliveryTime', 'maxDeliveryTime', 'address', 'locality',\n",
      "       'unserviceable', 'veg', 'City'],\n",
      "      dtype='object')\n",
      "RangeIndex(start=0, stop=8691, step=1)\n",
      "<class 'pandas.core.frame.DataFrame'>\n",
      "RangeIndex: 8691 entries, 0 to 8690\n",
      "Data columns (total 18 columns):\n",
      " #   Column              Non-Null Count  Dtype  \n",
      "---  ------              --------------  -----  \n",
      " 0   type                8691 non-null   object \n",
      " 1   id                  8691 non-null   int64  \n",
      " 2   name                8691 non-null   object \n",
      " 3   uuid                8688 non-null   object \n",
      " 4   city                8691 non-null   object \n",
      " 5   area                8691 non-null   object \n",
      " 6   avgRating           8691 non-null   object \n",
      " 7   totalRatingsString  8691 non-null   object \n",
      " 8   cuisines            8691 non-null   object \n",
      " 9   costForTwoStrings   8691 non-null   object \n",
      " 10  deliveryTime        8691 non-null   int64  \n",
      " 11  minDeliveryTime     8691 non-null   int64  \n",
      " 12  maxDeliveryTime     8691 non-null   int64  \n",
      " 13  address             8682 non-null   object \n",
      " 14  locality            8681 non-null   object \n",
      " 15  unserviceable       8685 non-null   object \n",
      " 16  veg                 8685 non-null   object \n",
      " 17  City                0 non-null      float64\n",
      "dtypes: float64(1), int64(4), object(13)\n",
      "memory usage: 1.2+ MB\n"
     ]
    }
   ],
   "source": [
    "swiggy_df.describe()\n",
    "print(swiggy_df.shape)\n",
    "print(swiggy_df.columns)\n",
    "print(swiggy_df.index)\n",
    "swiggy_df.info()"
   ]
  },
  {
   "cell_type": "code",
   "execution_count": 11,
   "id": "051dc6b3",
   "metadata": {},
   "outputs": [],
   "source": [
    "zomato_df = pd.read_csv('zomato.csv')"
   ]
  },
  {
   "cell_type": "code",
   "execution_count": 12,
   "id": "e7a91c96",
   "metadata": {
    "scrolled": true
   },
   "outputs": [
    {
     "name": "stdout",
     "output_type": "stream",
     "text": [
      "(51717, 17)\n",
      "Index(['url', 'address', 'name', 'online_order', 'book_table', 'rate', 'votes',\n",
      "       'phone', 'location', 'rest_type', 'dish_liked', 'cuisines',\n",
      "       'approx_cost(for two people)', 'reviews_list', 'menu_item',\n",
      "       'listed_in(type)', 'listed_in(city)'],\n",
      "      dtype='object')\n",
      "RangeIndex(start=0, stop=51717, step=1)\n",
      "<class 'pandas.core.frame.DataFrame'>\n",
      "RangeIndex: 51717 entries, 0 to 51716\n",
      "Data columns (total 17 columns):\n",
      " #   Column                       Non-Null Count  Dtype \n",
      "---  ------                       --------------  ----- \n",
      " 0   url                          51717 non-null  object\n",
      " 1   address                      51717 non-null  object\n",
      " 2   name                         51717 non-null  object\n",
      " 3   online_order                 51717 non-null  object\n",
      " 4   book_table                   51717 non-null  object\n",
      " 5   rate                         43942 non-null  object\n",
      " 6   votes                        51717 non-null  int64 \n",
      " 7   phone                        50509 non-null  object\n",
      " 8   location                     51696 non-null  object\n",
      " 9   rest_type                    51490 non-null  object\n",
      " 10  dish_liked                   23639 non-null  object\n",
      " 11  cuisines                     51672 non-null  object\n",
      " 12  approx_cost(for two people)  51371 non-null  object\n",
      " 13  reviews_list                 51717 non-null  object\n",
      " 14  menu_item                    51717 non-null  object\n",
      " 15  listed_in(type)              51717 non-null  object\n",
      " 16  listed_in(city)              51717 non-null  object\n",
      "dtypes: int64(1), object(16)\n",
      "memory usage: 6.7+ MB\n"
     ]
    }
   ],
   "source": [
    "zomato_df.describe()\n",
    "zomato_df.describe()\n",
    "print(zomato_df.shape)\n",
    "print(zomato_df.columns)\n",
    "print(zomato_df.index)\n",
    "zomato_df.info()"
   ]
  },
  {
   "cell_type": "markdown",
   "id": "bd727793",
   "metadata": {},
   "source": [
    "## Data Preprocessing "
   ]
  },
  {
   "cell_type": "markdown",
   "id": "c9e911f2",
   "metadata": {},
   "source": [
    "## Swiggy"
   ]
  },
  {
   "cell_type": "code",
   "execution_count": 21,
   "id": "216a01d2",
   "metadata": {},
   "outputs": [
    {
     "data": {
      "text/html": [
       "<div>\n",
       "<style scoped>\n",
       "    .dataframe tbody tr th:only-of-type {\n",
       "        vertical-align: middle;\n",
       "    }\n",
       "\n",
       "    .dataframe tbody tr th {\n",
       "        vertical-align: top;\n",
       "    }\n",
       "\n",
       "    .dataframe thead th {\n",
       "        text-align: right;\n",
       "    }\n",
       "</style>\n",
       "<table border=\"1\" class=\"dataframe\">\n",
       "  <thead>\n",
       "    <tr style=\"text-align: right;\">\n",
       "      <th></th>\n",
       "      <th>type</th>\n",
       "      <th>id</th>\n",
       "      <th>name</th>\n",
       "      <th>uuid</th>\n",
       "      <th>city</th>\n",
       "      <th>area</th>\n",
       "      <th>avgRating</th>\n",
       "      <th>totalRatingsString</th>\n",
       "      <th>cuisines</th>\n",
       "      <th>costForTwoStrings</th>\n",
       "      <th>deliveryTime</th>\n",
       "      <th>minDeliveryTime</th>\n",
       "      <th>maxDeliveryTime</th>\n",
       "      <th>address</th>\n",
       "      <th>locality</th>\n",
       "      <th>unserviceable</th>\n",
       "      <th>veg</th>\n",
       "      <th>City</th>\n",
       "    </tr>\n",
       "  </thead>\n",
       "  <tbody>\n",
       "    <tr>\n",
       "      <th>0</th>\n",
       "      <td>F</td>\n",
       "      <td>37933</td>\n",
       "      <td>Faasos - Wraps &amp; Rolls</td>\n",
       "      <td>6fe9caf1-02a7-4e66-83bb-1b4ff296b683</td>\n",
       "      <td>Ahmedabad</td>\n",
       "      <td>Vastrapur</td>\n",
       "      <td>4.2</td>\n",
       "      <td>500+ ratings</td>\n",
       "      <td>['Combo' 'Snacks' 'Beverages' 'Desserts' 'Indi...</td>\n",
       "      <td>₹200 FOR TWO</td>\n",
       "      <td>44</td>\n",
       "      <td>44</td>\n",
       "      <td>44</td>\n",
       "      <td>SHOP NO 2 HOTEL SHAHI PALACE VASTRAPUR LAKE AH...</td>\n",
       "      <td>HOTEL SHAHI PALACE</td>\n",
       "      <td>False</td>\n",
       "      <td>False</td>\n",
       "      <td>NaN</td>\n",
       "    </tr>\n",
       "    <tr>\n",
       "      <th>1</th>\n",
       "      <td>F</td>\n",
       "      <td>81814</td>\n",
       "      <td>Burger King</td>\n",
       "      <td>10083576-d32d-4a0e-8a82-3236ef342a19</td>\n",
       "      <td>Ahmedabad</td>\n",
       "      <td>Ellisbridge</td>\n",
       "      <td>4.2</td>\n",
       "      <td>1000+ ratings</td>\n",
       "      <td>['American' 'Fast Food']</td>\n",
       "      <td>₹350 FOR TWO</td>\n",
       "      <td>33</td>\n",
       "      <td>33</td>\n",
       "      <td>33</td>\n",
       "      <td>SHOP # 5 GR FLR THIRD EYE 2PANCHAVATI CIRCLE O...</td>\n",
       "      <td>3rd Eye II Ellis Bridge CG Road</td>\n",
       "      <td>False</td>\n",
       "      <td>False</td>\n",
       "      <td>NaN</td>\n",
       "    </tr>\n",
       "    <tr>\n",
       "      <th>2</th>\n",
       "      <td>F</td>\n",
       "      <td>107046</td>\n",
       "      <td>Mahalaxmi Pav Bhaji</td>\n",
       "      <td>fbfe3bfa-03fd-4708-b913-06e2c9ee9639</td>\n",
       "      <td>Ahmedabad</td>\n",
       "      <td>Ellisbridge</td>\n",
       "      <td>4.3</td>\n",
       "      <td>500+ ratings</td>\n",
       "      <td>['North Indian']</td>\n",
       "      <td>₹200 FOR TWO</td>\n",
       "      <td>28</td>\n",
       "      <td>28</td>\n",
       "      <td>28</td>\n",
       "      <td>GF 9/10 Dev complexnear parimal charasta opp. ...</td>\n",
       "      <td>C G Road</td>\n",
       "      <td>False</td>\n",
       "      <td>True</td>\n",
       "      <td>NaN</td>\n",
       "    </tr>\n",
       "    <tr>\n",
       "      <th>3</th>\n",
       "      <td>F</td>\n",
       "      <td>328315</td>\n",
       "      <td>HIIT Meals</td>\n",
       "      <td>81ab4019-2445-4aef-aff2-04beccd641d9</td>\n",
       "      <td>Ahmedabad</td>\n",
       "      <td>Vishala</td>\n",
       "      <td>--</td>\n",
       "      <td>Too Few Ratings</td>\n",
       "      <td>['Fast Food' 'Combo' 'Snacks' 'North Indian' '...</td>\n",
       "      <td>₹150 FOR TWO</td>\n",
       "      <td>51</td>\n",
       "      <td>51</td>\n",
       "      <td>51</td>\n",
       "      <td>C11 Rajyash Rise Near Vishala Restaurant Vasna...</td>\n",
       "      <td>Vasna</td>\n",
       "      <td>False</td>\n",
       "      <td>False</td>\n",
       "      <td>NaN</td>\n",
       "    </tr>\n",
       "    <tr>\n",
       "      <th>4</th>\n",
       "      <td>F</td>\n",
       "      <td>108879</td>\n",
       "      <td>Jay Jalaram Parotha House</td>\n",
       "      <td>994e73e1-7c7c-4ad9-87e7-ecfecd4e36fa</td>\n",
       "      <td>Ahmedabad</td>\n",
       "      <td>Ellisbridge</td>\n",
       "      <td>3.9</td>\n",
       "      <td>100+ ratings</td>\n",
       "      <td>['North Indian']</td>\n",
       "      <td>₹250 FOR TWO</td>\n",
       "      <td>29</td>\n",
       "      <td>29</td>\n",
       "      <td>29</td>\n",
       "      <td>Capital Commercial Centre Near UCO Bank Ashram...</td>\n",
       "      <td>Ashram Road</td>\n",
       "      <td>False</td>\n",
       "      <td>True</td>\n",
       "      <td>NaN</td>\n",
       "    </tr>\n",
       "  </tbody>\n",
       "</table>\n",
       "</div>"
      ],
      "text/plain": [
       "  type      id                       name  \\\n",
       "0    F   37933     Faasos - Wraps & Rolls   \n",
       "1    F   81814                Burger King   \n",
       "2    F  107046        Mahalaxmi Pav Bhaji   \n",
       "3    F  328315                 HIIT Meals   \n",
       "4    F  108879  Jay Jalaram Parotha House   \n",
       "\n",
       "                                   uuid       city         area avgRating  \\\n",
       "0  6fe9caf1-02a7-4e66-83bb-1b4ff296b683  Ahmedabad    Vastrapur       4.2   \n",
       "1  10083576-d32d-4a0e-8a82-3236ef342a19  Ahmedabad  Ellisbridge       4.2   \n",
       "2  fbfe3bfa-03fd-4708-b913-06e2c9ee9639  Ahmedabad  Ellisbridge       4.3   \n",
       "3  81ab4019-2445-4aef-aff2-04beccd641d9  Ahmedabad      Vishala        --   \n",
       "4  994e73e1-7c7c-4ad9-87e7-ecfecd4e36fa  Ahmedabad  Ellisbridge       3.9   \n",
       "\n",
       "  totalRatingsString                                           cuisines  \\\n",
       "0       500+ ratings  ['Combo' 'Snacks' 'Beverages' 'Desserts' 'Indi...   \n",
       "1      1000+ ratings                           ['American' 'Fast Food']   \n",
       "2       500+ ratings                                   ['North Indian']   \n",
       "3    Too Few Ratings  ['Fast Food' 'Combo' 'Snacks' 'North Indian' '...   \n",
       "4       100+ ratings                                   ['North Indian']   \n",
       "\n",
       "  costForTwoStrings  deliveryTime  minDeliveryTime  maxDeliveryTime  \\\n",
       "0      ₹200 FOR TWO            44               44               44   \n",
       "1      ₹350 FOR TWO            33               33               33   \n",
       "2      ₹200 FOR TWO            28               28               28   \n",
       "3      ₹150 FOR TWO            51               51               51   \n",
       "4      ₹250 FOR TWO            29               29               29   \n",
       "\n",
       "                                             address  \\\n",
       "0  SHOP NO 2 HOTEL SHAHI PALACE VASTRAPUR LAKE AH...   \n",
       "1  SHOP # 5 GR FLR THIRD EYE 2PANCHAVATI CIRCLE O...   \n",
       "2  GF 9/10 Dev complexnear parimal charasta opp. ...   \n",
       "3  C11 Rajyash Rise Near Vishala Restaurant Vasna...   \n",
       "4  Capital Commercial Centre Near UCO Bank Ashram...   \n",
       "\n",
       "                          locality unserviceable    veg  City  \n",
       "0               HOTEL SHAHI PALACE         False  False   NaN  \n",
       "1  3rd Eye II Ellis Bridge CG Road         False  False   NaN  \n",
       "2                         C G Road         False   True   NaN  \n",
       "3                            Vasna         False  False   NaN  \n",
       "4                      Ashram Road         False   True   NaN  "
      ]
     },
     "execution_count": 21,
     "metadata": {},
     "output_type": "execute_result"
    }
   ],
   "source": [
    "swiggy_df.head()"
   ]
  },
  {
   "cell_type": "code",
   "execution_count": 15,
   "id": "fdd1207b",
   "metadata": {},
   "outputs": [
    {
     "data": {
      "text/plain": [
       "type                     0\n",
       "id                       0\n",
       "name                     0\n",
       "uuid                     3\n",
       "city                     0\n",
       "area                     0\n",
       "avgRating                0\n",
       "totalRatingsString       0\n",
       "cuisines                 0\n",
       "costForTwoStrings        0\n",
       "deliveryTime             0\n",
       "minDeliveryTime          0\n",
       "maxDeliveryTime          0\n",
       "address                  9\n",
       "locality                10\n",
       "unserviceable            6\n",
       "veg                      6\n",
       "City                  8691\n",
       "dtype: int64"
      ]
     },
     "execution_count": 15,
     "metadata": {},
     "output_type": "execute_result"
    }
   ],
   "source": [
    "swiggy_df.isnull().sum()"
   ]
  },
  {
   "cell_type": "code",
   "execution_count": 24,
   "id": "45c294d9",
   "metadata": {
    "scrolled": true
   },
   "outputs": [
    {
     "data": {
      "text/html": [
       "<div>\n",
       "<style scoped>\n",
       "    .dataframe tbody tr th:only-of-type {\n",
       "        vertical-align: middle;\n",
       "    }\n",
       "\n",
       "    .dataframe tbody tr th {\n",
       "        vertical-align: top;\n",
       "    }\n",
       "\n",
       "    .dataframe thead th {\n",
       "        text-align: right;\n",
       "    }\n",
       "</style>\n",
       "<table border=\"1\" class=\"dataframe\">\n",
       "  <thead>\n",
       "    <tr style=\"text-align: right;\">\n",
       "      <th></th>\n",
       "      <th>id</th>\n",
       "      <th>name</th>\n",
       "      <th>city</th>\n",
       "      <th>area</th>\n",
       "      <th>avgRating</th>\n",
       "      <th>cuisines</th>\n",
       "      <th>deliveryTime</th>\n",
       "      <th>veg</th>\n",
       "    </tr>\n",
       "  </thead>\n",
       "  <tbody>\n",
       "    <tr>\n",
       "      <th>0</th>\n",
       "      <td>37933</td>\n",
       "      <td>Faasos - Wraps &amp; Rolls</td>\n",
       "      <td>Ahmedabad</td>\n",
       "      <td>Vastrapur</td>\n",
       "      <td>4.2</td>\n",
       "      <td>['Combo' 'Snacks' 'Beverages' 'Desserts' 'Indi...</td>\n",
       "      <td>44</td>\n",
       "      <td>False</td>\n",
       "    </tr>\n",
       "    <tr>\n",
       "      <th>1</th>\n",
       "      <td>81814</td>\n",
       "      <td>Burger King</td>\n",
       "      <td>Ahmedabad</td>\n",
       "      <td>Ellisbridge</td>\n",
       "      <td>4.2</td>\n",
       "      <td>['American' 'Fast Food']</td>\n",
       "      <td>33</td>\n",
       "      <td>False</td>\n",
       "    </tr>\n",
       "    <tr>\n",
       "      <th>2</th>\n",
       "      <td>107046</td>\n",
       "      <td>Mahalaxmi Pav Bhaji</td>\n",
       "      <td>Ahmedabad</td>\n",
       "      <td>Ellisbridge</td>\n",
       "      <td>4.3</td>\n",
       "      <td>['North Indian']</td>\n",
       "      <td>28</td>\n",
       "      <td>True</td>\n",
       "    </tr>\n",
       "  </tbody>\n",
       "</table>\n",
       "</div>"
      ],
      "text/plain": [
       "       id                    name       city         area avgRating  \\\n",
       "0   37933  Faasos - Wraps & Rolls  Ahmedabad    Vastrapur       4.2   \n",
       "1   81814             Burger King  Ahmedabad  Ellisbridge       4.2   \n",
       "2  107046     Mahalaxmi Pav Bhaji  Ahmedabad  Ellisbridge       4.3   \n",
       "\n",
       "                                            cuisines  deliveryTime    veg  \n",
       "0  ['Combo' 'Snacks' 'Beverages' 'Desserts' 'Indi...            44  False  \n",
       "1                           ['American' 'Fast Food']            33  False  \n",
       "2                                   ['North Indian']            28   True  "
      ]
     },
     "execution_count": 24,
     "metadata": {},
     "output_type": "execute_result"
    }
   ],
   "source": [
    "swiggy_df.drop(['type','uuid','City', 'totalRatingsString','costForTwoStrings', 'address', 'locality', 'minDeliveryTime', 'maxDeliveryTime', 'unserviceable'],axis=1,inplace=True)\n",
    "swiggy_df.head(3)"
   ]
  },
  {
   "cell_type": "code",
   "execution_count": 28,
   "id": "e49cdd58",
   "metadata": {},
   "outputs": [],
   "source": [
    "def clean(x):\n",
    "    #to remove html tag\n",
    "    x = re.sub(r'<.*?>',' ',x)\n",
    "    x= re.sub(r\"can't\",'can not',x)\n",
    "    x= re.sub(r\"don't\",'do not',x)\n",
    "    x= re.sub(r\"didn't\",'did not',x)\n",
    "    #change to mobile number\n",
    "    x= re.sub(r'[\\d-]{10,12}','mobno',x)\n",
    "    #to remove punctuatin and numbers\n",
    "    x = re.sub(r'[^A-Za-z]',' ',x)\n",
    "    #to replace more than 1 space with 1 space\n",
    "    x = re.sub(r'\\s+',' ',x)\n",
    "    #to convert into lower\n",
    "    return x\n",
    "swiggy_df['cuisines'] = swiggy_df.cuisines.apply(clean)"
   ]
  },
  {
   "cell_type": "code",
   "execution_count": 30,
   "id": "2b7965f6",
   "metadata": {},
   "outputs": [
    {
     "data": {
      "text/html": [
       "<div>\n",
       "<style scoped>\n",
       "    .dataframe tbody tr th:only-of-type {\n",
       "        vertical-align: middle;\n",
       "    }\n",
       "\n",
       "    .dataframe tbody tr th {\n",
       "        vertical-align: top;\n",
       "    }\n",
       "\n",
       "    .dataframe thead th {\n",
       "        text-align: right;\n",
       "    }\n",
       "</style>\n",
       "<table border=\"1\" class=\"dataframe\">\n",
       "  <thead>\n",
       "    <tr style=\"text-align: right;\">\n",
       "      <th></th>\n",
       "      <th>Resturant_Id</th>\n",
       "      <th>Restaurants</th>\n",
       "      <th>City</th>\n",
       "      <th>Locality</th>\n",
       "      <th>Ratings</th>\n",
       "      <th>Cuisines</th>\n",
       "      <th>Delivery Time</th>\n",
       "      <th>Pure Veg</th>\n",
       "    </tr>\n",
       "  </thead>\n",
       "  <tbody>\n",
       "    <tr>\n",
       "      <th>0</th>\n",
       "      <td>37933</td>\n",
       "      <td>Faasos - Wraps &amp; Rolls</td>\n",
       "      <td>Ahmedabad</td>\n",
       "      <td>Vastrapur</td>\n",
       "      <td>4.2</td>\n",
       "      <td>Combo Snacks Beverages Desserts Indian</td>\n",
       "      <td>44</td>\n",
       "      <td>False</td>\n",
       "    </tr>\n",
       "    <tr>\n",
       "      <th>1</th>\n",
       "      <td>81814</td>\n",
       "      <td>Burger King</td>\n",
       "      <td>Ahmedabad</td>\n",
       "      <td>Ellisbridge</td>\n",
       "      <td>4.2</td>\n",
       "      <td>American Fast Food</td>\n",
       "      <td>33</td>\n",
       "      <td>False</td>\n",
       "    </tr>\n",
       "    <tr>\n",
       "      <th>2</th>\n",
       "      <td>107046</td>\n",
       "      <td>Mahalaxmi Pav Bhaji</td>\n",
       "      <td>Ahmedabad</td>\n",
       "      <td>Ellisbridge</td>\n",
       "      <td>4.3</td>\n",
       "      <td>North Indian</td>\n",
       "      <td>28</td>\n",
       "      <td>True</td>\n",
       "    </tr>\n",
       "  </tbody>\n",
       "</table>\n",
       "</div>"
      ],
      "text/plain": [
       "   Resturant_Id             Restaurants       City     Locality Ratings  \\\n",
       "0         37933  Faasos - Wraps & Rolls  Ahmedabad    Vastrapur     4.2   \n",
       "1         81814             Burger King  Ahmedabad  Ellisbridge     4.2   \n",
       "2        107046     Mahalaxmi Pav Bhaji  Ahmedabad  Ellisbridge     4.3   \n",
       "\n",
       "                                   Cuisines  Delivery Time Pure Veg  \n",
       "0   Combo Snacks Beverages Desserts Indian              44    False  \n",
       "1                       American Fast Food              33    False  \n",
       "2                             North Indian              28     True  "
      ]
     },
     "execution_count": 30,
     "metadata": {},
     "output_type": "execute_result"
    }
   ],
   "source": [
    "swiggy_df.rename(columns={'id':'Resturant_Id','name':'Restaurants','city':'City','area':'Locality', 'avgRating':'Ratings', 'cuisines':'Cuisines', 'deliveryTime':'Delivery Time', 'veg':'Pure Veg'},inplace=True)\n",
    "swiggy_df.head(3)"
   ]
  },
  {
   "cell_type": "code",
   "execution_count": 34,
   "id": "8ae90823",
   "metadata": {},
   "outputs": [
    {
     "data": {
      "text/plain": [
       "8685"
      ]
     },
     "execution_count": 34,
     "metadata": {},
     "output_type": "execute_result"
    }
   ],
   "source": [
    "swiggy_df.dropna(inplace=True)\n",
    "len(swiggy_df)"
   ]
  },
  {
   "cell_type": "code",
   "execution_count": 37,
   "id": "b62298dd",
   "metadata": {},
   "outputs": [
    {
     "name": "stdout",
     "output_type": "stream",
     "text": [
      "<class 'pandas.core.frame.DataFrame'>\n",
      "Int64Index: 8685 entries, 0 to 8690\n",
      "Data columns (total 8 columns):\n",
      " #   Column         Non-Null Count  Dtype \n",
      "---  ------         --------------  ----- \n",
      " 0   Resturant_Id   8685 non-null   int64 \n",
      " 1   Restaurants    8685 non-null   object\n",
      " 2   City           8685 non-null   object\n",
      " 3   Locality       8685 non-null   object\n",
      " 4   Ratings        8685 non-null   object\n",
      " 5   Cuisines       8685 non-null   object\n",
      " 6   Delivery Time  8685 non-null   int64 \n",
      " 7   Pure Veg       8685 non-null   object\n",
      "dtypes: int64(2), object(6)\n",
      "memory usage: 610.7+ KB\n"
     ]
    }
   ],
   "source": [
    "swiggy_df.info()"
   ]
  },
  {
   "cell_type": "code",
   "execution_count": 41,
   "id": "51392b70",
   "metadata": {},
   "outputs": [
    {
     "data": {
      "text/plain": [
       "0"
      ]
     },
     "execution_count": 41,
     "metadata": {},
     "output_type": "execute_result"
    }
   ],
   "source": [
    "swiggy_df[swiggy_df.duplicated()].count().sum()"
   ]
  },
  {
   "cell_type": "code",
   "execution_count": 63,
   "id": "7e5c3b4e",
   "metadata": {},
   "outputs": [
    {
     "data": {
      "text/plain": [
       "array(['4.2', '4.3', '--', '3.9', '4.1', '4.4', '3.7', '4', '4.5', '3.8',\n",
       "       '3', '4.6', '2.8', '3.3', '4.8', '3.5', '2.9', '2.4', '2.6', '3.2',\n",
       "       '3.6', '4.7', '3.4', '2.7', '3.1', '4.9', '5', '2.5', '2.2', '2.3',\n",
       "       '2'], dtype=object)"
      ]
     },
     "execution_count": 63,
     "metadata": {},
     "output_type": "execute_result"
    }
   ],
   "source": [
    "swiggy_df['Ratings'].unique()"
   ]
  },
  {
   "cell_type": "code",
   "execution_count": 64,
   "id": "2c416d7d",
   "metadata": {},
   "outputs": [
    {
     "data": {
      "text/plain": [
       "0"
      ]
     },
     "execution_count": 64,
     "metadata": {},
     "output_type": "execute_result"
    }
   ],
   "source": [
    "swiggy_df['Ratings'].isnull().sum()"
   ]
  },
  {
   "cell_type": "code",
   "execution_count": 65,
   "id": "e73902f2",
   "metadata": {},
   "outputs": [
    {
     "data": {
      "text/plain": [
       "array(['Ahmedabad', 'Bangalore', 'Chennai', 'Delhi', 'Hyderabad',\n",
       "       'Kolkata', 'Mumbai', 'Pune', 'Surat'], dtype=object)"
      ]
     },
     "execution_count": 65,
     "metadata": {},
     "output_type": "execute_result"
    }
   ],
   "source": [
    "swiggy_df['City'].unique()"
   ]
  },
  {
   "cell_type": "code",
   "execution_count": 67,
   "id": "9533a36f",
   "metadata": {
    "scrolled": true
   },
   "outputs": [
    {
     "data": {
      "text/plain": [
       "array(['Vastrapur', 'Ellisbridge', 'Vishala', 'Paldi', 'Drive In Road',\n",
       "       'Navrangpura', 'Gulbai Tekra', 'Paldi & Ambawadi', 'Jodhpur Tekra',\n",
       "       'Lal Darwaja', 'Ambawadi', 'Khamasa', 'Khadia', 'Ahmedabad',\n",
       "       'LalDarwaja', 'Bhadra', 'University Area', 'Raikhad', 'Khanpur',\n",
       "       'CG Road', 'Shahpur', 'Ambavadi', 'Navjivan', 'Naranpura',\n",
       "       'Ramdev Nagar', 'Bodakdev', 'Satellite', 'Prahlad Nagar',\n",
       "       'Chanakyapuri', 'Odhav', 'Thaltej', 'Sindhu Bhavan Road',\n",
       "       'Maninagar', 'Usmanpura', 'Panjarapole Cross Road', 'Nehrunagar',\n",
       "       'Madhupura', 'Kalupur', 'Sherkotda', 'Narayan Nagar',\n",
       "       'Jivraj Park', 'Kankaria', 'Danilimda', 'Prahlad nagar',\n",
       "       'Sardar Colony', 'Jodhpur Village', 'Girdhar Nagar', 'Gomtipur',\n",
       "       'Juhapura', 'Memnagar', 'Shyamal', 'Vasna', 'Shah-E-Alam Roja',\n",
       "       'Dudheshwar', 'Gurukul', 'Old Wadaj', 'Ghatlodia',\n",
       "       ' Akhbar Nagar Circle', 'Jodhpur Cross Road', 'SARKHEJ ROAD',\n",
       "       'Nava Vadaj', 'Ranip', 'Khokhra', 'Isanpur', 'Narolgam',\n",
       "       'Ghodasar', 'Hatkeshwar', 'Jashoda Nagar', 'Saijpur Bogha',\n",
       "       'Narol', 'Kuber Nagar', 'Nava Naroda', 'Vatva', 'Vastral',\n",
       "       'Naroda', 'Bapunagar', 'Mahadev Nagar Tekra', 'Chandkheda',\n",
       "       'Acher', 'Noble Nagar Tenament', 'Gidc Naroda', 'Motera',\n",
       "       'Ashok Nagar', 'Richmond Town', 'Gandhi Nagar', 'Koramangala',\n",
       "       'Majestic', 'Sampangi Rama Nagar', 'Ganganagar',\n",
       "       'Central Bangalore', 'Malleswaram', 'Residency Road',\n",
       "       'Indiranagar', 'Sivanchetti Gardens', '3rd Block Jayanagar',\n",
       "       'Rajajinagar', 'Langford Gardens', 'Jayanagar', 'Shivaji Nagar',\n",
       "       'Benson Town', 'Basavanagudi', 'Srirampura', 'Domlur',\n",
       "       'Malleshwaram', 'Gandhinagar', 'Banashankari', 'Chamrajpet',\n",
       "       'Shankarapura', 'Cox Town', 'Pulikeshi Nagar', 'Wilson Garden',\n",
       "       'New Tippasandra', 'Vasanth Nagar', 'Central Banglore',\n",
       "       'Jogupalya', 'Sampangiram Nagar', 'Kodihalli', 'VV Puram',\n",
       "       'Adugodi', 'Shantinagar', 'Victoria Layout', 'Armane Nagar',\n",
       "       'Jayanagar - 3rd Block', 'Church Street', 'Shanti Nagar',\n",
       "       'Gandhi Bazaar', 'R.T. Nagar', 'Frazer Town', 'Seshadripuram',\n",
       "       'Vijayanagar', 'Cooke Town', 'Chickpet', 'MANTRI SQARE MALL',\n",
       "       'Commercial Street', 'Brigade road', 'Cambridge layout',\n",
       "       'Viveka Nagar', 'Ejipura', 'Sheshadripuram', 'Guttahalli',\n",
       "       'Sudhama Nagar', 'Ashok nagar', 'J.C.Nagar', 'Ulsoor',\n",
       "       'Battarahalli', 'Nagarathpete', 'DOMLUR', 'Brigade Road',\n",
       "       'Cunningham Road', 'Azad Nagar', 'Jayamahal',\n",
       "       'Sanjay Nagar New BEL Road', 'Lingarajapuram kammanahalli',\n",
       "       'Sarvagnanagar', 'Kadugondanahalli', 'Koramangala - Bangalore',\n",
       "       'Rt Nagar', 'Central Bengalore', 'Someshwarpura',\n",
       "       'Basaveshwaranagar', 'Neelasandra', 'Halsuru', 'Purasaiwakkam',\n",
       "       'T. Nagar', 'Egmore', 'Old Washermanpet', 'Perambur', 'Chennai',\n",
       "       'Saligramam', 'Arumbakkam', 'Chetpet', 'Anna Salai', 'Gopalapuram',\n",
       "       'Aminjikarai', 'George Town', 'Choolai', 'Purasawalkam',\n",
       "       'Kolathur', 'Poongavanapuram', 'West Mambalam', 'Thousand Lights',\n",
       "       'Nungambakkam', 'Royapettah', 'Anna Nagar', 'Triplicane',\n",
       "       'Mylapore', 'Kilpauk', 'Sastri Nager', 'Annanagar East',\n",
       "       'Vadapalani', 'Washermanpet', 'Choolaimedu', 'Kodambakkam',\n",
       "       'Royapuram', 'Alwarpet', 'Teynampet', 'Shenoy Nagar',\n",
       "       'Kodungaiyur', 'Ayanavaram',\n",
       "       'Nehru Stadium Dark Kitchen Metro Manor Sydenhams',\n",
       "       'Anna Nagar West Extension', 'Nandanam', 'Annanagar', 'Periyamet',\n",
       "       'Tiruvalleeswarar Nagar', 'Vyasarpadi',\n",
       "       'DR.RADHAKRISHNAN SALAI-MYLAPORE', 'Annamalai Colony',\n",
       "       'Kotturpuram', 'T Nagar', 'Cit Nagar', 'Balavinayagar Nagar',\n",
       "       'Santhome', 'Koyambedu', 'RA Puram',\n",
       "       'KNK- NUNGAMBAKAM (CDS)- CHENNAI', 'Mandaveli', 'Jamalia',\n",
       "       'Raja Annamalai Puram', 'Wallace Garden', 'Villivakkam',\n",
       "       'Madhavaram', 'Valasaravakkam', 'Express Avenue Mall',\n",
       "       'Srinivas Towers', 'Ponniammanmedu', 'Mogappair', 'Peravallur',\n",
       "       '26', 'PURASAWALKAM', 'Vishnu Garden', 'Tondiarpet', 'KODAMBAKKAM',\n",
       "       'Anna nagar west', 'EA Mall Royapettah', 'Chintadripet',\n",
       "       'mmda colony', 'Old Wasermenpet', 'Madhavaram - Manali ',\n",
       "       'Thirunagar Signal Vadapalani', 'KILPAUK', 'Madhavaram - Manali',\n",
       "       'Mogapair', 'Budh Vihar', 'Sector 4 Rohini', 'Rohini',\n",
       "       'Sector 3 Rohini', 'Pitam Pura', 'Sector 2 Rohini',\n",
       "       'Sector 14 Rohini', 'Sector 9 Rohini', 'Sector 7 Rohini',\n",
       "       'Prashant Vihar Rohini', 'Sector 16 Rohini', 'Sector 6 Rohini',\n",
       "       'Sector 1 Rohini', 'Sector 10 Rohini', 'Sector -6',\n",
       "       'Krishan Vihar', 'pocket c-11 sector 5 Rohini', 'Pitampara',\n",
       "       'sector 5 Rohini', 'Sector 51', 'sector 7 rohini',\n",
       "       'Sector 8 Rohini', 'Rithala Rohini', 'Sector 37', 'NSP',\n",
       "       'Sector 73', 'VARDHMAN PREMIUM MALL', 'Begampur', 'Paharganj',\n",
       "       'Sector 29', 'Sector 8', 'Sector 13 Rohini', 'Paschim Vihar',\n",
       "       'Sector 8  Rohini', 'Sainik Vihar', 'Sainik Vihar Pritampura ',\n",
       "       'Sec-9 Rohini', 'Pitampura', 'Rohini Sector 7', 'Secot 24Rohini',\n",
       "       'prashant vihar', 'Behra Enclave Paschim Vihar',\n",
       "       'Sector 11 Rohini', 'Delhi', 'Rani Bagh', 'Rohini ', 'Tilak Nagar',\n",
       "       'Sector -15', 'Ashok Vihar', 'Rohini - Sector 16',\n",
       "       'Mukherjee Nagar', 'Peeragarhi camp', 'Sector 15 Rohini',\n",
       "       'Shakurpur', 'PITAMPURA', 'Sri Nagar ', 'Nangloi', 'Punjabi Bagh',\n",
       "       'Shalimar Bagh', 'Rajouri Garden', 'Ramesh Nagar',\n",
       "       'Tagore Garden Extension', 'Central Markt Punjabi Bagh',\n",
       "       'Punjab Bagh', 'Tri Nagar', 'punjabi bagh',\n",
       "       'Central Market Punjabi Bagh', 'PATEL  NAGAR', 'Janakpuri',\n",
       "       'Krishna Park Tilak Nagar', 'KESHAV PURAM', 'Kirti Nagar',\n",
       "       'Uttam Nagar', 'Tilak nagar', 'Subhash Nagar Petrol Pump',\n",
       "       'Pacific Mall Subhash Nagar', 'South West', 'Moti Nagar',\n",
       "       'Block Gg1 Vikaspuri', 'Vikaspuri', 'Wazirpur Industrial Area',\n",
       "       'Karam Pura', 'vikaspuri', 'Kg-Iii', 'Rajouri Garden Extension',\n",
       "       'Moti nagar', 'Himayatnagar', 'New Nallakunta', 'Narayanguda',\n",
       "       'Lnt Mall Musarambagh', 'Chintal', 'Gowliguda', 'Hyderabad',\n",
       "       'Koti', 'Kavadiguda', 'Punjagutta', 'Himayath Nagar', 'Redhills',\n",
       "       'Yakutpura', 'Masab Tank', 'New Malakpet', 'Ghansi Bazaar',\n",
       "       'Somajiguda', 'Humayun Nagar', 'Pathar Gatti', 'Moosarambagh',\n",
       "       'Uppal', 'Huda Complex', 'Santosh Nagar', 'Kothapet',\n",
       "       'Nallakunta & Vidyanagar', 'Kothapet & Dilsukhnagar',\n",
       "       'Banjara Hills', 'Basheer Bagh', 'Khairtabad', 'Malakpet',\n",
       "       'Sri Hanuman Nagar Colony', 'Kachiguda', 'Tarnaka',\n",
       "       'Santoshnagar & Saidabad', 'Charminar', 'Nampally', 'Toli Chowki',\n",
       "       'Amberpet', 'Tarnaka Nacharam & Malkajigiri', 'Bn Reddy Nagar',\n",
       "       'Dilsukhnagar', 'Habsiguda', 'Chanchalguda',\n",
       "       'Krishna Nagar Colony', 'Gudimalkapur', 'Madannapet Colony',\n",
       "       'Tolichowki', 'Nagole', 'Gaddiannaram', 'Ramkote', 'Saidabad',\n",
       "       'Vijaya Nagar Colony', 'Old Malakpet', 'Abids', 'Lakdikapul',\n",
       "       'Adarsh Nagar', 'New Mallepally', 'Mehdipatnam', 'L.B Nagar',\n",
       "       'Velly View Enclave', 'Kothapet & Dilshuknagar',\n",
       "       'Sri Sai Tarun Enclave', 'Chandrapuri Colony', 'Jam Bagh',\n",
       "       'Moghalpura', 'Hakimpet', 'Somajiguda & Khairtabad', 'Vidyanagar',\n",
       "       'Habsiguda ', 'Zamistanpur', 'Old Mla Quarters', 'Nacharam',\n",
       "       'Sai Nagar', 'Adikmet', 'Kiran Nagar', 'Abids & Koti',\n",
       "       'Vijay Nagar Colony', 'Ramnas Pura', 'Jyothi Nagar', 'MEHDIPATNAM',\n",
       "       'Khilwat', 'Feelkhana', 'Murad Nagar', 'Yakhutpura', 'asif nagar',\n",
       "       'Begumpet', 'Brindavan Colony', 'Bhavani Nagar Uppal - Hyderabad',\n",
       "       'Hyderguda Old MLA home', 'Uppal - Hyderabad', 'Padmarao Nagar',\n",
       "       'Lal Darwaza', 'Aliabad', 'Gaddi Annaram', 'Tad Bun',\n",
       "       'Jubilee Hills', 'Peerzadiguda', 'Banjarahills', 'Talab Katta',\n",
       "       'Gowlipura', 'Film Nagar', 'Chudi Bazaar', 'Sithaphalmandi',\n",
       "       'Padma Nagar Colony', 'Huda Colony', 'Ramanthapur',\n",
       "       'Boudhanagar Colony', 'Golconda Fort', 'Begum Bazar',\n",
       "       'Padmarao nagar ', 'Himayat Nagar', 'Gunti Jangaiah Nagar',\n",
       "       'Sri Durga Enclave', 'Sarvodaya Colony', 'Ameerpet',\n",
       "       'Sanjeeva Reddy Nagar', 'Rani Gunj', 'Kalasiguda',\n",
       "       'Venkateshwara Colony', 'Asif Nagar', 'Musheerabad',\n",
       "       'Takara Basthi', 'A.S. Rao Nagar & Sainikpuri', 'Karkhana',\n",
       "       'West Marredpally', 'Tarnaka  Nacharam & Malkajigiri',\n",
       "       'Vanasthalipuram', 'Kharkhana & Trimulgherry', 'New Gayatri Nagar',\n",
       "       'Ramgopalpet', 'Balkampet', 'Malkajgiri', 'Gunrock Enclave',\n",
       "       'Yousufguda', 'Kalyan Nagar X Roads', 'Rajamohallah', 'King Koti',\n",
       "       'Tolichowki HPS kids school opposite', 'Darulshifa',\n",
       "       'Secunderabad', 'Banjara hills', 'Bowenpally', 'Afzal Gunj',\n",
       "       'Chandrayangutta', 'Madhura Nagar', 'Nallakunta', 'Jillelaguda',\n",
       "       'kachiguda', ' Begumpet', 'Lakdi ka pul', 'NALGONDA',\n",
       "       'Chilakalguda', 'Langar Houz', 'LB Nagar', 'Taltala',\n",
       "       'College Square', 'Burrabazar', 'Barabazar Market', 'Tiretti',\n",
       "       'Kankurgachi', 'Central Kolkata', 'Esplanade', 'Bowbazar',\n",
       "       'Entally', 'Park Street Area', 'Maniktala', 'College Street',\n",
       "       'Machuabazar', 'Bentinck St.', 'Jorasanko', 'Kolkata', 'Salt Lake',\n",
       "       'Girish Park', 'Hatibagan', 'Shyam Bazar', 'Raja Bazar',\n",
       "       'Manicktala', 'Hedua', 'B.B.D. Bagh', 'Naktala', 'Sovabazar',\n",
       "       'Near Gurudas Park', 'Jorabagan', 'Beniapukur', 'Lal Bazar',\n",
       "       'Shobhabazar', 'Near Rupbani Cinema', 'Ahiritola', 'Beleghata',\n",
       "       'Elgin', 'Shyam bazar', 'SanityTestArea', 'Shyambazar Crossing',\n",
       "       'BOROUGH - III', 'Ballygunge', 'Ultadanga', 'park circus',\n",
       "       'Tangra', 'Circus Avenue', 'Bhowanipore', 'Kankurgachi Kolkata ',\n",
       "       'ULTADANGA TELENGA BAGAN', 'Park Circus', 'Kakurgachi',\n",
       "       'Maniktala Main Rd', 'Sector V Salt Lake', 'Topsia', 'Paikpara',\n",
       "       'Bidhannagar', 'Kalighat', 'South Kolkata', 'Chiriamore',\n",
       "       'Park circus', 'Lord Sinha Rd', 'central kolkata', 'Dumdum',\n",
       "       'Cossipore', 'Sarat Bose Rd', 'Bally', 'Alipore', 'Gobra',\n",
       "       'Belgachia', 'salt lake - kolkata', 'Lake Town', 'Purba Barisha',\n",
       "       'Broad Street', 'Tala', 'Beltala Road', 'Broadway Mall',\n",
       "       'New Area', 'Opp Padmashree Movie Hall', 'Ruby Area', 'Kustia',\n",
       "       'picnic garden', 'Kasba', 'salt lake area', 'Salt lake',\n",
       "       'Gariahat', 'Manohar Pukur Road', 'Sreebhumi', 'Ekdalia',\n",
       "       'Tiljala', 'Near City Centre 1 Petrol Pump', 'Kestopur',\n",
       "       'Lake Market', 'Dum Dum', 'Golpark', 'Baranagar', 'Sinthee',\n",
       "       'Southern Avenue Gariahat', 'Dhakuria', 'North Dumdum',\n",
       "       'Hindustan Park', 'BOROUGH', 'Bosepukur', 'Lake Gardens',\n",
       "       'A Unit of M/S Cohort  Ruby Area', 'Bong Chinese Ruby Area',\n",
       "       'Jadavpur', 'Chetla', 'Bangur', 'Selimpur',\n",
       "       'East Kolkata Township', 'Amarpalli', 'South Dumdum',\n",
       "       'Salt Lake City', 'Jodhpur Park', 'Ruby park', 'Garfa',\n",
       "       'Santoshpur', 'Golf Green', 'Rabindra Sarovar', 'Baguihati',\n",
       "       'New Alipore', 'Tollygunge', 'Baguiati', 'Nagerbazar',\n",
       "       'Kestopur Rabindrapally', 'Kidderpore', 'Behala', 'Lake gardens',\n",
       "       'Jodhpur', 'Haltu', 'Rabindrapally',\n",
       "       'Near Lal Gate Ramlal BazarSapuipara', 'Chinar Park', 'Rajarhat',\n",
       "       'Smarpally kestopur', 'MG Road', 'RamMandir', 'central Kolkata',\n",
       "       'Near 7 Point Crossing', 'Sector 3', 'Saltlake Sector 1',\n",
       "       'lake town', 'Sarat Park', 'Dum Dum Park',\n",
       "       'Ruby Area  Kasba  East Kolkata Township', 'Chembur', 'Kurla',\n",
       "       'Kurla West', 'Santacruz East', 'Mumbai', 'Saki Naka',\n",
       "       'Scruz Bandra East', 'Bandra Area', 'SANTACRUZ EAST', 'Kurla west',\n",
       "       'Bandra East', 'Kalina CK', 'Kalina', 'Gautam Buddha Nagar',\n",
       "       'Scruz Bandra east', 'Santacruz East Mumbai.',\n",
       "       'Bandra Kurla Complex', 'Bkc', 'Juhu', 'Kurla - Mumbai',\n",
       "       'Ghatkopar Vikhroli', 'Ghatkopar West', 'Andheri East', 'Sion',\n",
       "       'Marol Sakinaka', 'kurla east nehru nagar', 'Phoenix Mall',\n",
       "       'Ghatkopar CK Mum', 'chembur', 'Ghatkopar East', 'Powai Area',\n",
       "       'Vile Parle', 'Matunga Wadala', 'Sion Bhakti Park', 'Asalpha',\n",
       "       'Vakola', 'sion', 'Ghatkopar', 'FDL_Scruz Bandra East\\t',\n",
       "       'Station Road Ghatkopar West', 'Powai', 'Dharavi', 'Marol',\n",
       "       'PowaiAndheri East', 'Santacruz Bandra East', 'Garodia Nagar',\n",
       "       'Kailash Plaza', 'Sakivihar', 'Marol Maroshi road', 'Govandi East',\n",
       "       'Khar East', 'Bandra West', 'Saki Vihar Road', 'Andheri West Area',\n",
       "       'Kurla (W)', 'Santacruz', 'Saki Naka   Andheri east',\n",
       "       'The New Sion Co-operative Housing Society', 'powai',\n",
       "       'Santacruz West', 'Chembur colony', 'Khar West', 'Antop Hill',\n",
       "       'Mukti Nagar', 'bldg no15 /402  Aniket Building  Shivaji Nagar',\n",
       "       'Lower Parel Area', 'Sion Koliwada', 'Matunga', 'Vikhroli West',\n",
       "       'Vikhroli', 'Lower Parel Worli', 'Jogeshwari East', 'Mahim',\n",
       "       'Matunga East', 'Narayan Peth', 'Shivajinagar', 'Erandwane',\n",
       "       'Bhawani Peth', 'Rasta Peth', 'Shaniwar Peth', 'Camp',\n",
       "       'Raviwar Peth', 'Swargate', 'JM Road', 'Budhwar Peth',\n",
       "       'Sadashiv Peth', 'Agarkar Nagar', 'Kasba Peth',\n",
       "       'Appa Balwant Chowk Pune', 'Somwar Peth', 'Magarpatta',\n",
       "       'Shukrawar Peth', 'Deccan Gymkhana', 'Ganesh Peth', 'Modi Colony',\n",
       "       'sadashiv peth', 'Ganj Peth', 'Sinhgad Road', 'FC Road',\n",
       "       'Sadar Bazaar', 'Somwarpeth', 'Aundh', 'Katad Khana',\n",
       "       'LAW COLLEGE ROAD', 'Satara road Bibvewadi', 'Koregaon Park',\n",
       "       'Sangamvadi', 'Guru Nanak Nagar', 'Parvati', 'Gokhalenagar',\n",
       "       'Kothrud', 'Parvati Paytha', 'Maharshi Nagar', 'Bibwewadi',\n",
       "       'Dhole Patil Road', 'Sheela Vihar Colony', 'Ghorpadi',\n",
       "       'Karve Nagar', 'Gultekdi', 'koregoan Park', 'KARVE NAGAR',\n",
       "       'Vishrantwadi', 'Baner', 'Kalyani Nagar', 'Koregaon park',\n",
       "       'Ganga Dham', 'Bibvewadi', 'Visharant Wadi', 'Old Sangvi',\n",
       "       'Wanowrie', 'Bopodi', 'Mangawadi', 'Wanwadi', 'Lullanagar',\n",
       "       'BOPODI', 'Koregoan Park', 'Fathima Nagar', 'Anand Nagar',\n",
       "       'Kondhwa', 'Karvenagar', 'Mundhwa', 'Dhankawadi', 'Range Hills',\n",
       "       'koregoan park ', 'Yerawada', 'Salunkhe Vihar road', 'Pashan',\n",
       "       'Warje', 'Mohammed Wadi', 'Salunkhe Vihar',\n",
       "       'KAUSAR BAUGH NIBM ROAD', 'Sangvi', 'Dapodi', 'Katraj',\n",
       "       'Balaji Nagar', 'kothrud', 'Dhanakawadi', 'kondhwa', 'Hadapsar',\n",
       "       'Kondhwa Budruk', 'Tingre Nagar', 'NIBM post office Road', 'Kalas',\n",
       "       'WADGAON BUDRUK Tilak Road', 'Ambegaon', 'Vadgaon Budruk',\n",
       "       'Viman Nagar', 'Narhe', 'Bavdhan', 'PCMC', 'Wadgaon Sheri',\n",
       "       'Piplod', 'Udhna', 'Khatodra Wadi', 'Vesu', 'Nanpura', 'Athwa',\n",
       "       'Varachha', 'Bharthana', 'Mitul Square Piplod', 'Sagrampura',\n",
       "       'Magob', 'Majura Gate', 'Gopipura', 'Begampura', 'Salabatpura',\n",
       "       'Moonlight Cream Sagrampura', 'SagrampuraAthwa', 'Rustampura',\n",
       "       'Navsari Bazaar', 'Surat', 'Ghod Dod Road', 'Bhatar Athwa',\n",
       "       'Ghod dod road Sarelawadi', 'Chowk Bazar', 'Althan', 'Sayedpura',\n",
       "       'Shahpore', 'Chowpati  Athwa', 'Haripura', 'Athwa Station Road',\n",
       "       'Bhagal', 'Parvat Patiya', 'New Textile Market', 'Umarwada',\n",
       "       'Bhimrad', 'Athwa Gate', 'Narotam Nagar', 'Adajan', 'Yamuna Nagar',\n",
       "       'Puna Patia', 'Adajan Patiya', 'Ashok bhai- Citylight',\n",
       "       'Sanjay Nagar', 'Singanpor', 'Katargam', 'Uttran',\n",
       "       'Palanpur Patia', 'Umra Jakat', 'Vip Road', 'Mahalaxmi Rd',\n",
       "       'Pankaj Nagar', 'Bhatha', 'Adajan Gam', 'Pal Gam', 'Patel Nagar',\n",
       "       'vesu', 'Sarthana', 'Honey Park', 'L.P.Savani', 'New Rander Road',\n",
       "       'Sima Nagar', 'Hirabaugh', 'Rander', 'Vishal Nagar',\n",
       "       'Near RTO Pal Gam', 'Dabholi', 'Safal Square Vesu',\n",
       "       'Laxmi Encleve - Katargam', 'Dindoli', 'Yoginagar Society',\n",
       "       'Magdalla', 'Mota Varachha', 'Palanpur', 'New Magdalla',\n",
       "       'Palanpur Jakatnaka', 'Kapodra Patiya', 'Nana Varachha', 'Amroli',\n",
       "       'Dahin Nagar', 'varachha'], dtype=object)"
      ]
     },
     "execution_count": 67,
     "metadata": {},
     "output_type": "execute_result"
    }
   ],
   "source": [
    "swiggy_df['Locality'].unique()"
   ]
  },
  {
   "cell_type": "code",
   "execution_count": 68,
   "id": "636f4b93",
   "metadata": {},
   "outputs": [
    {
     "data": {
      "text/plain": [
       "0"
      ]
     },
     "execution_count": 68,
     "metadata": {},
     "output_type": "execute_result"
    }
   ],
   "source": [
    "swiggy_df['Locality'].isnull().sum()"
   ]
  },
  {
   "cell_type": "code",
   "execution_count": 69,
   "id": "2ee54dbe",
   "metadata": {
    "scrolled": true
   },
   "outputs": [
    {
     "data": {
      "text/plain": [
       "Rohini                             253\n",
       "Chembur                            207\n",
       "Kothrud                            146\n",
       "Andheri East                       135\n",
       "Navrangpura                        133\n",
       "                                  ... \n",
       "Hyderguda Old MLA home               1\n",
       "Bhavani Nagar Uppal - Hyderabad      1\n",
       "asif nagar                           1\n",
       "Yakhutpura                           1\n",
       "varachha                             1\n",
       "Name: Locality, Length: 878, dtype: int64"
      ]
     },
     "execution_count": 69,
     "metadata": {},
     "output_type": "execute_result"
    }
   ],
   "source": [
    "a=swiggy_df['Locality'].value_counts(ascending=False)\n",
    "a"
   ]
  },
  {
   "cell_type": "code",
   "execution_count": 70,
   "id": "20646411",
   "metadata": {},
   "outputs": [
    {
     "data": {
      "text/plain": [
       "Resturant_Id     0\n",
       "Restaurants      0\n",
       "City             0\n",
       "Locality         0\n",
       "Ratings          0\n",
       "Cuisines         0\n",
       "Delivery Time    0\n",
       "Pure Veg         0\n",
       "dtype: int64"
      ]
     },
     "execution_count": 70,
     "metadata": {},
     "output_type": "execute_result"
    }
   ],
   "source": [
    "swiggy_df.isnull().sum()"
   ]
  },
  {
   "cell_type": "code",
   "execution_count": 76,
   "id": "a00538cb",
   "metadata": {},
   "outputs": [
    {
     "data": {
      "text/html": [
       "<div>\n",
       "<style scoped>\n",
       "    .dataframe tbody tr th:only-of-type {\n",
       "        vertical-align: middle;\n",
       "    }\n",
       "\n",
       "    .dataframe tbody tr th {\n",
       "        vertical-align: top;\n",
       "    }\n",
       "\n",
       "    .dataframe thead th {\n",
       "        text-align: right;\n",
       "    }\n",
       "</style>\n",
       "<table border=\"1\" class=\"dataframe\">\n",
       "  <thead>\n",
       "    <tr style=\"text-align: right;\">\n",
       "      <th></th>\n",
       "      <th>Cuisines</th>\n",
       "    </tr>\n",
       "  </thead>\n",
       "  <tbody>\n",
       "    <tr>\n",
       "      <th>Indian</th>\n",
       "      <td>389</td>\n",
       "    </tr>\n",
       "    <tr>\n",
       "      <th>Chinese</th>\n",
       "      <td>277</td>\n",
       "    </tr>\n",
       "    <tr>\n",
       "      <th>North Indian</th>\n",
       "      <td>246</td>\n",
       "    </tr>\n",
       "    <tr>\n",
       "      <th>Fast Food</th>\n",
       "      <td>241</td>\n",
       "    </tr>\n",
       "    <tr>\n",
       "      <th>South Indian</th>\n",
       "      <td>228</td>\n",
       "    </tr>\n",
       "    <tr>\n",
       "      <th>Indian Chinese</th>\n",
       "      <td>121</td>\n",
       "    </tr>\n",
       "    <tr>\n",
       "      <th>Desserts</th>\n",
       "      <td>106</td>\n",
       "    </tr>\n",
       "    <tr>\n",
       "      <th>North Indian Chinese</th>\n",
       "      <td>105</td>\n",
       "    </tr>\n",
       "    <tr>\n",
       "      <th>Bakery</th>\n",
       "      <td>90</td>\n",
       "    </tr>\n",
       "    <tr>\n",
       "      <th>Beverages</th>\n",
       "      <td>82</td>\n",
       "    </tr>\n",
       "    <tr>\n",
       "      <th>Biryani</th>\n",
       "      <td>79</td>\n",
       "    </tr>\n",
       "    <tr>\n",
       "      <th>Pizzas</th>\n",
       "      <td>77</td>\n",
       "    </tr>\n",
       "    <tr>\n",
       "      <th>Ice Cream Desserts</th>\n",
       "      <td>74</td>\n",
       "    </tr>\n",
       "    <tr>\n",
       "      <th>Bakery Desserts</th>\n",
       "      <td>74</td>\n",
       "    </tr>\n",
       "    <tr>\n",
       "      <th>Ice Cream</th>\n",
       "      <td>70</td>\n",
       "    </tr>\n",
       "    <tr>\n",
       "      <th>Chinese Indian</th>\n",
       "      <td>65</td>\n",
       "    </tr>\n",
       "    <tr>\n",
       "      <th>Snacks</th>\n",
       "      <td>58</td>\n",
       "    </tr>\n",
       "    <tr>\n",
       "      <th>Desserts Bakery</th>\n",
       "      <td>48</td>\n",
       "    </tr>\n",
       "    <tr>\n",
       "      <th>Chinese Fast Food</th>\n",
       "      <td>43</td>\n",
       "    </tr>\n",
       "    <tr>\n",
       "      <th>Desserts Beverages</th>\n",
       "      <td>42</td>\n",
       "    </tr>\n",
       "  </tbody>\n",
       "</table>\n",
       "</div>"
      ],
      "text/plain": [
       "                        Cuisines\n",
       " Indian                      389\n",
       " Chinese                     277\n",
       " North Indian                246\n",
       " Fast Food                   241\n",
       " South Indian                228\n",
       " Indian Chinese              121\n",
       " Desserts                    106\n",
       " North Indian Chinese        105\n",
       " Bakery                       90\n",
       " Beverages                    82\n",
       " Biryani                      79\n",
       " Pizzas                       77\n",
       " Ice Cream Desserts           74\n",
       " Bakery Desserts              74\n",
       " Ice Cream                    70\n",
       " Chinese Indian               65\n",
       " Snacks                       58\n",
       " Desserts Bakery              48\n",
       " Chinese Fast Food            43\n",
       " Desserts Beverages           42"
      ]
     },
     "metadata": {},
     "output_type": "display_data"
    },
    {
     "data": {
      "text/plain": [
       "Text(0.5, 1.0, 'Popular cuisines in India')"
      ]
     },
     "execution_count": 76,
     "metadata": {},
     "output_type": "execute_result"
    },
    {
     "data": {
      "image/png": "[encoded data removed]",
      "text/plain": [
       "<Figure size 855x475 with 1 Axes>"
      ]
     },
     "metadata": {
      "needs_background": "light"
     },
     "output_type": "display_data"
    }
   ],
   "source": [
    "cuisines=swiggy_df['Cuisines'].value_counts().head(20)\n",
    "display(cuisines.to_frame())\n",
    "plt.figure(figsize=(9,5),dpi=95)\n",
    "sns.barplot(x=cuisines,y= cuisines.index ,palette='bright')\n",
    "plt.title('Popular cuisines in India')"
   ]
  },
  {
   "cell_type": "code",
   "execution_count": 101,
   "id": "3ded4f99",
   "metadata": {},
   "outputs": [],
   "source": [
    "def clean_ratings(x):\n",
    "    x = re.sub(r'--','00',x)\n",
    "    return x\n",
    "swiggy_df['Ratings'] = swiggy_df.Ratings.apply(clean_ratings)"
   ]
  },
  {
   "cell_type": "code",
   "execution_count": 103,
   "id": "f9c05b75",
   "metadata": {
    "scrolled": false
   },
   "outputs": [
    {
     "name": "stdout",
     "output_type": "stream",
     "text": [
      "<class 'pandas.core.frame.DataFrame'>\n",
      "Int64Index: 8685 entries, 0 to 8690\n",
      "Data columns (total 8 columns):\n",
      " #   Column         Non-Null Count  Dtype  \n",
      "---  ------         --------------  -----  \n",
      " 0   Resturant_Id   8685 non-null   Int64  \n",
      " 1   Restaurants    8685 non-null   string \n",
      " 2   City           8685 non-null   string \n",
      " 3   Locality       8685 non-null   string \n",
      " 4   Ratings        8685 non-null   float64\n",
      " 5   Cuisines       8685 non-null   string \n",
      " 6   Delivery Time  8685 non-null   Int64  \n",
      " 7   Pure Veg       8685 non-null   boolean\n",
      "dtypes: Int64(2), boolean(1), float64(1), string(4)\n",
      "memory usage: 576.7 KB\n"
     ]
    }
   ],
   "source": [
    "swiggy_df = swiggy_df.convert_dtypes()\n",
    "swiggy_df['Ratings'] = swiggy_df['Ratings'].apply(pd.to_numeric)\n",
    "swiggy_df.info()"
   ]
  },
  {
   "cell_type": "code",
   "execution_count": 104,
   "id": "39a2b0b3",
   "metadata": {},
   "outputs": [
    {
     "data": {
      "text/html": [
       "<div>\n",
       "<style scoped>\n",
       "    .dataframe tbody tr th:only-of-type {\n",
       "        vertical-align: middle;\n",
       "    }\n",
       "\n",
       "    .dataframe tbody tr th {\n",
       "        vertical-align: top;\n",
       "    }\n",
       "\n",
       "    .dataframe thead th {\n",
       "        text-align: right;\n",
       "    }\n",
       "</style>\n",
       "<table border=\"1\" class=\"dataframe\">\n",
       "  <thead>\n",
       "    <tr style=\"text-align: right;\">\n",
       "      <th></th>\n",
       "      <th>Ratings</th>\n",
       "    </tr>\n",
       "    <tr>\n",
       "      <th>Locality</th>\n",
       "      <th></th>\n",
       "    </tr>\n",
       "  </thead>\n",
       "  <tbody>\n",
       "    <tr>\n",
       "      <th>Chembur</th>\n",
       "      <td>538.2</td>\n",
       "    </tr>\n",
       "    <tr>\n",
       "      <th>Rohini</th>\n",
       "      <td>442.8</td>\n",
       "    </tr>\n",
       "    <tr>\n",
       "      <th>Bidhannagar</th>\n",
       "      <td>420.8</td>\n",
       "    </tr>\n",
       "    <tr>\n",
       "      <th>Andheri East</th>\n",
       "      <td>394.3</td>\n",
       "    </tr>\n",
       "    <tr>\n",
       "      <th>Koramangala</th>\n",
       "      <td>383.5</td>\n",
       "    </tr>\n",
       "  </tbody>\n",
       "</table>\n",
       "</div>"
      ],
      "text/plain": [
       "              Ratings\n",
       "Locality             \n",
       "Chembur         538.2\n",
       "Rohini          442.8\n",
       "Bidhannagar     420.8\n",
       "Andheri East    394.3\n",
       "Koramangala     383.5"
      ]
     },
     "metadata": {},
     "output_type": "display_data"
    },
    {
     "name": "stdout",
     "output_type": "stream",
     "text": [
      "AxesSubplot(0.125,0.125;0.775x0.755)\n"
     ]
    },
    {
     "data": {
      "image/png": "[encoded data removed]",
      "text/plain": [
       "<Figure size 720x720 with 1 Axes>"
      ]
     },
     "metadata": {
      "needs_background": "light"
     },
     "output_type": "display_data"
    }
   ],
   "source": [
    "loc_rate=swiggy_df.loc[:,['Locality','Ratings']]\n",
    "loc_rate=swiggy_df.groupby('Locality')['Ratings'].sum()\n",
    "loc_rate=loc_rate.to_frame()\n",
    "loc_rate=loc_rate.sort_values(\"Ratings\",ascending=False)\n",
    "display(loc_rate.head())\n",
    "plt.figure(figsize=(10,10))\n",
    "pt=sns.barplot(y=loc_rate.index[:15],x=loc_rate['Ratings'][:15],palette='coolwarm',orient='h')\n",
    "plt.title('Best Location(rating)')\n",
    "print(pt)"
   ]
  },
  {
   "cell_type": "code",
   "execution_count": null,
   "id": "f1fa294f",
   "metadata": {},
   "outputs": [],
   "source": []
  },
  {
   "cell_type": "markdown",
   "id": "c7b0c940",
   "metadata": {},
   "source": [
    "## Zomato"
   ]
  },
  {
   "cell_type": "code",
   "execution_count": 20,
   "id": "7a8d67aa",
   "metadata": {},
   "outputs": [
    {
     "data": {
      "text/html": [
       "<div>\n",
       "<style scoped>\n",
       "    .dataframe tbody tr th:only-of-type {\n",
       "        vertical-align: middle;\n",
       "    }\n",
       "\n",
       "    .dataframe tbody tr th {\n",
       "        vertical-align: top;\n",
       "    }\n",
       "\n",
       "    .dataframe thead th {\n",
       "        text-align: right;\n",
       "    }\n",
       "</style>\n",
       "<table border=\"1\" class=\"dataframe\">\n",
       "  <thead>\n",
       "    <tr style=\"text-align: right;\">\n",
       "      <th></th>\n",
       "      <th>url</th>\n",
       "      <th>address</th>\n",
       "      <th>name</th>\n",
       "      <th>online_order</th>\n",
       "      <th>book_table</th>\n",
       "      <th>rate</th>\n",
       "      <th>votes</th>\n",
       "      <th>phone</th>\n",
       "      <th>location</th>\n",
       "      <th>rest_type</th>\n",
       "      <th>dish_liked</th>\n",
       "      <th>cuisines</th>\n",
       "      <th>approx_cost(for two people)</th>\n",
       "      <th>reviews_list</th>\n",
       "      <th>menu_item</th>\n",
       "      <th>listed_in(type)</th>\n",
       "      <th>listed_in(city)</th>\n",
       "    </tr>\n",
       "  </thead>\n",
       "  <tbody>\n",
       "    <tr>\n",
       "      <th>0</th>\n",
       "      <td>https://www.zomato.com/bangalore/jalsa-banasha...</td>\n",
       "      <td>942, 21st Main Road, 2nd Stage, Banashankari, ...</td>\n",
       "      <td>Jalsa</td>\n",
       "      <td>Yes</td>\n",
       "      <td>Yes</td>\n",
       "      <td>4.1/5</td>\n",
       "      <td>775</td>\n",
       "      <td>080 42297555\\r\\n+91 9743772233</td>\n",
       "      <td>Banashankari</td>\n",
       "      <td>Casual Dining</td>\n",
       "      <td>Pasta, Lunch Buffet, Masala Papad, Paneer Laja...</td>\n",
       "      <td>North Indian, Mughlai, Chinese</td>\n",
       "      <td>800</td>\n",
       "      <td>[('Rated 4.0', 'RATED\\n  A beautiful place to ...</td>\n",
       "      <td>[]</td>\n",
       "      <td>Buffet</td>\n",
       "      <td>Banashankari</td>\n",
       "    </tr>\n",
       "    <tr>\n",
       "      <th>1</th>\n",
       "      <td>https://www.zomato.com/bangalore/spice-elephan...</td>\n",
       "      <td>2nd Floor, 80 Feet Road, Near Big Bazaar, 6th ...</td>\n",
       "      <td>Spice Elephant</td>\n",
       "      <td>Yes</td>\n",
       "      <td>No</td>\n",
       "      <td>4.1/5</td>\n",
       "      <td>787</td>\n",
       "      <td>080 41714161</td>\n",
       "      <td>Banashankari</td>\n",
       "      <td>Casual Dining</td>\n",
       "      <td>Momos, Lunch Buffet, Chocolate Nirvana, Thai G...</td>\n",
       "      <td>Chinese, North Indian, Thai</td>\n",
       "      <td>800</td>\n",
       "      <td>[('Rated 4.0', 'RATED\\n  Had been here for din...</td>\n",
       "      <td>[]</td>\n",
       "      <td>Buffet</td>\n",
       "      <td>Banashankari</td>\n",
       "    </tr>\n",
       "    <tr>\n",
       "      <th>2</th>\n",
       "      <td>https://www.zomato.com/SanchurroBangalore?cont...</td>\n",
       "      <td>1112, Next to KIMS Medical College, 17th Cross...</td>\n",
       "      <td>San Churro Cafe</td>\n",
       "      <td>Yes</td>\n",
       "      <td>No</td>\n",
       "      <td>3.8/5</td>\n",
       "      <td>918</td>\n",
       "      <td>+91 9663487993</td>\n",
       "      <td>Banashankari</td>\n",
       "      <td>Cafe, Casual Dining</td>\n",
       "      <td>Churros, Cannelloni, Minestrone Soup, Hot Choc...</td>\n",
       "      <td>Cafe, Mexican, Italian</td>\n",
       "      <td>800</td>\n",
       "      <td>[('Rated 3.0', \"RATED\\n  Ambience is not that ...</td>\n",
       "      <td>[]</td>\n",
       "      <td>Buffet</td>\n",
       "      <td>Banashankari</td>\n",
       "    </tr>\n",
       "    <tr>\n",
       "      <th>3</th>\n",
       "      <td>https://www.zomato.com/bangalore/addhuri-udupi...</td>\n",
       "      <td>1st Floor, Annakuteera, 3rd Stage, Banashankar...</td>\n",
       "      <td>Addhuri Udupi Bhojana</td>\n",
       "      <td>No</td>\n",
       "      <td>No</td>\n",
       "      <td>3.7/5</td>\n",
       "      <td>88</td>\n",
       "      <td>+91 9620009302</td>\n",
       "      <td>Banashankari</td>\n",
       "      <td>Quick Bites</td>\n",
       "      <td>Masala Dosa</td>\n",
       "      <td>South Indian, North Indian</td>\n",
       "      <td>300</td>\n",
       "      <td>[('Rated 4.0', \"RATED\\n  Great food and proper...</td>\n",
       "      <td>[]</td>\n",
       "      <td>Buffet</td>\n",
       "      <td>Banashankari</td>\n",
       "    </tr>\n",
       "    <tr>\n",
       "      <th>4</th>\n",
       "      <td>https://www.zomato.com/bangalore/grand-village...</td>\n",
       "      <td>10, 3rd Floor, Lakshmi Associates, Gandhi Baza...</td>\n",
       "      <td>Grand Village</td>\n",
       "      <td>No</td>\n",
       "      <td>No</td>\n",
       "      <td>3.8/5</td>\n",
       "      <td>166</td>\n",
       "      <td>+91 8026612447\\r\\n+91 9901210005</td>\n",
       "      <td>Basavanagudi</td>\n",
       "      <td>Casual Dining</td>\n",
       "      <td>Panipuri, Gol Gappe</td>\n",
       "      <td>North Indian, Rajasthani</td>\n",
       "      <td>600</td>\n",
       "      <td>[('Rated 4.0', 'RATED\\n  Very good restaurant ...</td>\n",
       "      <td>[]</td>\n",
       "      <td>Buffet</td>\n",
       "      <td>Banashankari</td>\n",
       "    </tr>\n",
       "  </tbody>\n",
       "</table>\n",
       "</div>"
      ],
      "text/plain": [
       "                                                 url  \\\n",
       "0  https://www.zomato.com/bangalore/jalsa-banasha...   \n",
       "1  https://www.zomato.com/bangalore/spice-elephan...   \n",
       "2  https://www.zomato.com/SanchurroBangalore?cont...   \n",
       "3  https://www.zomato.com/bangalore/addhuri-udupi...   \n",
       "4  https://www.zomato.com/bangalore/grand-village...   \n",
       "\n",
       "                                             address                   name  \\\n",
       "0  942, 21st Main Road, 2nd Stage, Banashankari, ...                  Jalsa   \n",
       "1  2nd Floor, 80 Feet Road, Near Big Bazaar, 6th ...         Spice Elephant   \n",
       "2  1112, Next to KIMS Medical College, 17th Cross...        San Churro Cafe   \n",
       "3  1st Floor, Annakuteera, 3rd Stage, Banashankar...  Addhuri Udupi Bhojana   \n",
       "4  10, 3rd Floor, Lakshmi Associates, Gandhi Baza...          Grand Village   \n",
       "\n",
       "  online_order book_table   rate  votes                             phone  \\\n",
       "0          Yes        Yes  4.1/5    775    080 42297555\\r\\n+91 9743772233   \n",
       "1          Yes         No  4.1/5    787                      080 41714161   \n",
       "2          Yes         No  3.8/5    918                    +91 9663487993   \n",
       "3           No         No  3.7/5     88                    +91 9620009302   \n",
       "4           No         No  3.8/5    166  +91 8026612447\\r\\n+91 9901210005   \n",
       "\n",
       "       location            rest_type  \\\n",
       "0  Banashankari        Casual Dining   \n",
       "1  Banashankari        Casual Dining   \n",
       "2  Banashankari  Cafe, Casual Dining   \n",
       "3  Banashankari          Quick Bites   \n",
       "4  Basavanagudi        Casual Dining   \n",
       "\n",
       "                                          dish_liked  \\\n",
       "0  Pasta, Lunch Buffet, Masala Papad, Paneer Laja...   \n",
       "1  Momos, Lunch Buffet, Chocolate Nirvana, Thai G...   \n",
       "2  Churros, Cannelloni, Minestrone Soup, Hot Choc...   \n",
       "3                                        Masala Dosa   \n",
       "4                                Panipuri, Gol Gappe   \n",
       "\n",
       "                         cuisines approx_cost(for two people)  \\\n",
       "0  North Indian, Mughlai, Chinese                         800   \n",
       "1     Chinese, North Indian, Thai                         800   \n",
       "2          Cafe, Mexican, Italian                         800   \n",
       "3      South Indian, North Indian                         300   \n",
       "4        North Indian, Rajasthani                         600   \n",
       "\n",
       "                                        reviews_list menu_item  \\\n",
       "0  [('Rated 4.0', 'RATED\\n  A beautiful place to ...        []   \n",
       "1  [('Rated 4.0', 'RATED\\n  Had been here for din...        []   \n",
       "2  [('Rated 3.0', \"RATED\\n  Ambience is not that ...        []   \n",
       "3  [('Rated 4.0', \"RATED\\n  Great food and proper...        []   \n",
       "4  [('Rated 4.0', 'RATED\\n  Very good restaurant ...        []   \n",
       "\n",
       "  listed_in(type) listed_in(city)  \n",
       "0          Buffet    Banashankari  \n",
       "1          Buffet    Banashankari  \n",
       "2          Buffet    Banashankari  \n",
       "3          Buffet    Banashankari  \n",
       "4          Buffet    Banashankari  "
      ]
     },
     "execution_count": 20,
     "metadata": {},
     "output_type": "execute_result"
    }
   ],
   "source": [
    "zomato_df.head()"
   ]
  },
  {
   "cell_type": "code",
   "execution_count": 16,
   "id": "dfa6b760",
   "metadata": {},
   "outputs": [
    {
     "data": {
      "text/plain": [
       "url                                0\n",
       "address                            0\n",
       "name                               0\n",
       "online_order                       0\n",
       "book_table                         0\n",
       "rate                            7775\n",
       "votes                              0\n",
       "phone                           1208\n",
       "location                          21\n",
       "rest_type                        227\n",
       "dish_liked                     28078\n",
       "cuisines                          45\n",
       "approx_cost(for two people)      346\n",
       "reviews_list                       0\n",
       "menu_item                          0\n",
       "listed_in(type)                    0\n",
       "listed_in(city)                    0\n",
       "dtype: int64"
      ]
     },
     "execution_count": 16,
     "metadata": {},
     "output_type": "execute_result"
    }
   ],
   "source": [
    "zomato_df.isnull().sum()"
   ]
  },
  {
   "cell_type": "code",
   "execution_count": 15,
   "id": "705503d2",
   "metadata": {},
   "outputs": [
    {
     "data": {
      "text/html": [
       "<div>\n",
       "<style scoped>\n",
       "    .dataframe tbody tr th:only-of-type {\n",
       "        vertical-align: middle;\n",
       "    }\n",
       "\n",
       "    .dataframe tbody tr th {\n",
       "        vertical-align: top;\n",
       "    }\n",
       "\n",
       "    .dataframe thead th {\n",
       "        text-align: right;\n",
       "    }\n",
       "</style>\n",
       "<table border=\"1\" class=\"dataframe\">\n",
       "  <thead>\n",
       "    <tr style=\"text-align: right;\">\n",
       "      <th></th>\n",
       "      <th>name</th>\n",
       "      <th>online_order</th>\n",
       "      <th>book_table</th>\n",
       "      <th>rate</th>\n",
       "      <th>votes</th>\n",
       "      <th>location</th>\n",
       "      <th>rest_type</th>\n",
       "      <th>cuisines</th>\n",
       "      <th>approx_cost(for two people)</th>\n",
       "      <th>listed_in(type)</th>\n",
       "    </tr>\n",
       "  </thead>\n",
       "  <tbody>\n",
       "    <tr>\n",
       "      <th>0</th>\n",
       "      <td>Jalsa</td>\n",
       "      <td>Yes</td>\n",
       "      <td>Yes</td>\n",
       "      <td>4.1/5</td>\n",
       "      <td>775</td>\n",
       "      <td>Banashankari</td>\n",
       "      <td>Casual Dining</td>\n",
       "      <td>North Indian, Mughlai, Chinese</td>\n",
       "      <td>800</td>\n",
       "      <td>Buffet</td>\n",
       "    </tr>\n",
       "    <tr>\n",
       "      <th>1</th>\n",
       "      <td>Spice Elephant</td>\n",
       "      <td>Yes</td>\n",
       "      <td>No</td>\n",
       "      <td>4.1/5</td>\n",
       "      <td>787</td>\n",
       "      <td>Banashankari</td>\n",
       "      <td>Casual Dining</td>\n",
       "      <td>Chinese, North Indian, Thai</td>\n",
       "      <td>800</td>\n",
       "      <td>Buffet</td>\n",
       "    </tr>\n",
       "    <tr>\n",
       "      <th>2</th>\n",
       "      <td>San Churro Cafe</td>\n",
       "      <td>Yes</td>\n",
       "      <td>No</td>\n",
       "      <td>3.8/5</td>\n",
       "      <td>918</td>\n",
       "      <td>Banashankari</td>\n",
       "      <td>Cafe, Casual Dining</td>\n",
       "      <td>Cafe, Mexican, Italian</td>\n",
       "      <td>800</td>\n",
       "      <td>Buffet</td>\n",
       "    </tr>\n",
       "  </tbody>\n",
       "</table>\n",
       "</div>"
      ],
      "text/plain": [
       "              name online_order book_table   rate  votes      location  \\\n",
       "0            Jalsa          Yes        Yes  4.1/5    775  Banashankari   \n",
       "1   Spice Elephant          Yes         No  4.1/5    787  Banashankari   \n",
       "2  San Churro Cafe          Yes         No  3.8/5    918  Banashankari   \n",
       "\n",
       "             rest_type                        cuisines  \\\n",
       "0        Casual Dining  North Indian, Mughlai, Chinese   \n",
       "1        Casual Dining     Chinese, North Indian, Thai   \n",
       "2  Cafe, Casual Dining          Cafe, Mexican, Italian   \n",
       "\n",
       "  approx_cost(for two people) listed_in(type)  \n",
       "0                         800          Buffet  \n",
       "1                         800          Buffet  \n",
       "2                         800          Buffet  "
      ]
     },
     "execution_count": 15,
     "metadata": {},
     "output_type": "execute_result"
    }
   ],
   "source": [
    "zomato_df.drop(['url','address','phone','menu_item','dish_liked','reviews_list','listed_in(city)'],axis=1,inplace=True)\n",
    "zomato_df.head(3)"
   ]
  },
  {
   "cell_type": "code",
   "execution_count": 17,
   "id": "da7d7e4c",
   "metadata": {},
   "outputs": [
    {
     "data": {
      "text/html": [
       "<div>\n",
       "<style scoped>\n",
       "    .dataframe tbody tr th:only-of-type {\n",
       "        vertical-align: middle;\n",
       "    }\n",
       "\n",
       "    .dataframe tbody tr th {\n",
       "        vertical-align: top;\n",
       "    }\n",
       "\n",
       "    .dataframe thead th {\n",
       "        text-align: right;\n",
       "    }\n",
       "</style>\n",
       "<table border=\"1\" class=\"dataframe\">\n",
       "  <thead>\n",
       "    <tr style=\"text-align: right;\">\n",
       "      <th></th>\n",
       "      <th>restaurants</th>\n",
       "      <th>online_order</th>\n",
       "      <th>booking</th>\n",
       "      <th>rating</th>\n",
       "      <th>votes</th>\n",
       "      <th>location</th>\n",
       "      <th>rest_type</th>\n",
       "      <th>cuisines</th>\n",
       "      <th>cost</th>\n",
       "      <th>types</th>\n",
       "    </tr>\n",
       "  </thead>\n",
       "  <tbody>\n",
       "    <tr>\n",
       "      <th>0</th>\n",
       "      <td>Jalsa</td>\n",
       "      <td>Yes</td>\n",
       "      <td>Yes</td>\n",
       "      <td>4.1/5</td>\n",
       "      <td>775</td>\n",
       "      <td>Banashankari</td>\n",
       "      <td>Casual Dining</td>\n",
       "      <td>North Indian, Mughlai, Chinese</td>\n",
       "      <td>800</td>\n",
       "      <td>Buffet</td>\n",
       "    </tr>\n",
       "    <tr>\n",
       "      <th>1</th>\n",
       "      <td>Spice Elephant</td>\n",
       "      <td>Yes</td>\n",
       "      <td>No</td>\n",
       "      <td>4.1/5</td>\n",
       "      <td>787</td>\n",
       "      <td>Banashankari</td>\n",
       "      <td>Casual Dining</td>\n",
       "      <td>Chinese, North Indian, Thai</td>\n",
       "      <td>800</td>\n",
       "      <td>Buffet</td>\n",
       "    </tr>\n",
       "    <tr>\n",
       "      <th>2</th>\n",
       "      <td>San Churro Cafe</td>\n",
       "      <td>Yes</td>\n",
       "      <td>No</td>\n",
       "      <td>3.8/5</td>\n",
       "      <td>918</td>\n",
       "      <td>Banashankari</td>\n",
       "      <td>Cafe, Casual Dining</td>\n",
       "      <td>Cafe, Mexican, Italian</td>\n",
       "      <td>800</td>\n",
       "      <td>Buffet</td>\n",
       "    </tr>\n",
       "  </tbody>\n",
       "</table>\n",
       "</div>"
      ],
      "text/plain": [
       "       restaurants online_order booking rating  votes      location  \\\n",
       "0            Jalsa          Yes     Yes  4.1/5    775  Banashankari   \n",
       "1   Spice Elephant          Yes      No  4.1/5    787  Banashankari   \n",
       "2  San Churro Cafe          Yes      No  3.8/5    918  Banashankari   \n",
       "\n",
       "             rest_type                        cuisines cost   types  \n",
       "0        Casual Dining  North Indian, Mughlai, Chinese  800  Buffet  \n",
       "1        Casual Dining     Chinese, North Indian, Thai  800  Buffet  \n",
       "2  Cafe, Casual Dining          Cafe, Mexican, Italian  800  Buffet  "
      ]
     },
     "execution_count": 17,
     "metadata": {},
     "output_type": "execute_result"
    }
   ],
   "source": [
    "zomato_df.rename(columns={'name':'restaurants','book_table':'booking','listed_in(city)':'city','rate':'rating','approx_cost(for two people)':'cost','listed_in(type)':'types'},inplace=True)\n",
    "zomato_df.head(3)"
   ]
  },
  {
   "cell_type": "code",
   "execution_count": 31,
   "id": "ac33c8cf",
   "metadata": {},
   "outputs": [
    {
     "data": {
      "text/plain": [
       "51717"
      ]
     },
     "execution_count": 31,
     "metadata": {},
     "output_type": "execute_result"
    }
   ],
   "source": [
    "len(zomato_df)"
   ]
  },
  {
   "cell_type": "code",
   "execution_count": 36,
   "id": "7a739cd5",
   "metadata": {},
   "outputs": [
    {
     "data": {
      "text/plain": [
       "43533"
      ]
     },
     "execution_count": 36,
     "metadata": {},
     "output_type": "execute_result"
    }
   ],
   "source": [
    "zomato_df.dropna(inplace=True)\n",
    "len(zomato_df)"
   ]
  },
  {
   "cell_type": "code",
   "execution_count": 38,
   "id": "a139010f",
   "metadata": {},
   "outputs": [
    {
     "name": "stdout",
     "output_type": "stream",
     "text": [
      "<class 'pandas.core.frame.DataFrame'>\n",
      "Int64Index: 43533 entries, 0 to 51716\n",
      "Data columns (total 10 columns):\n",
      " #   Column        Non-Null Count  Dtype \n",
      "---  ------        --------------  ----- \n",
      " 0   restaurants   43533 non-null  object\n",
      " 1   online_order  43533 non-null  object\n",
      " 2   booking       43533 non-null  object\n",
      " 3   rating        43533 non-null  object\n",
      " 4   votes         43533 non-null  int64 \n",
      " 5   location      43533 non-null  object\n",
      " 6   rest_type     43533 non-null  object\n",
      " 7   cuisines      43533 non-null  object\n",
      " 8   cost          43533 non-null  object\n",
      " 9   types         43533 non-null  object\n",
      "dtypes: int64(1), object(9)\n",
      "memory usage: 3.7+ MB\n"
     ]
    }
   ],
   "source": [
    "zomato_df.info()"
   ]
  },
  {
   "cell_type": "code",
   "execution_count": 39,
   "id": "5e7e8a5a",
   "metadata": {},
   "outputs": [
    {
     "data": {
      "text/plain": [
       "125750"
      ]
     },
     "execution_count": 39,
     "metadata": {},
     "output_type": "execute_result"
    }
   ],
   "source": [
    "zomato_df[zomato_df.duplicated()].count().sum()"
   ]
  },
  {
   "cell_type": "code",
   "execution_count": 42,
   "id": "6e85e02b",
   "metadata": {},
   "outputs": [],
   "source": [
    "zomato_df.drop_duplicates(inplace=True)"
   ]
  },
  {
   "cell_type": "code",
   "execution_count": 44,
   "id": "f4ccb327",
   "metadata": {},
   "outputs": [
    {
     "data": {
      "text/plain": [
       "(30958, 10)"
      ]
     },
     "execution_count": 44,
     "metadata": {},
     "output_type": "execute_result"
    }
   ],
   "source": [
    "zomato_df.shape"
   ]
  },
  {
   "cell_type": "code",
   "execution_count": 46,
   "id": "e74e872c",
   "metadata": {},
   "outputs": [
    {
     "data": {
      "text/plain": [
       "0"
      ]
     },
     "execution_count": 46,
     "metadata": {},
     "output_type": "execute_result"
    }
   ],
   "source": [
    "zomato_df[zomato_df.duplicated()].count().sum()"
   ]
  },
  {
   "cell_type": "code",
   "execution_count": 47,
   "id": "0efeb382",
   "metadata": {},
   "outputs": [
    {
     "data": {
      "text/plain": [
       "array(['4.1/5', '3.8/5', '3.7/5', '3.6/5', '4.6/5', '4.0/5', '4.2/5',\n",
       "       '3.9/5', '3.1/5', '3.0/5', '3.2/5', '3.3/5', '2.8/5', '4.4/5',\n",
       "       '4.3/5', 'NEW', '2.9/5', '3.5/5', '2.6/5', '3.8 /5', '3.4/5',\n",
       "       '4.5/5', '2.5/5', '2.7/5', '4.7/5', '2.4/5', '2.2/5', '2.3/5',\n",
       "       '3.4 /5', '-', '3.6 /5', '4.8/5', '3.9 /5', '4.2 /5', '4.0 /5',\n",
       "       '4.1 /5', '3.7 /5', '3.1 /5', '2.9 /5', '3.3 /5', '2.8 /5',\n",
       "       '3.5 /5', '2.7 /5', '2.5 /5', '3.2 /5', '2.6 /5', '4.5 /5',\n",
       "       '4.3 /5', '4.4 /5', '4.9/5', '2.1/5', '2.0/5', '1.8/5', '4.6 /5',\n",
       "       '4.9 /5', '3.0 /5', '4.8 /5', '2.3 /5', '4.7 /5', '2.4 /5',\n",
       "       '2.1 /5', '2.2 /5', '2.0 /5', '1.8 /5'], dtype=object)"
      ]
     },
     "execution_count": 47,
     "metadata": {},
     "output_type": "execute_result"
    }
   ],
   "source": [
    "zomato_df['rating'].unique()"
   ]
  },
  {
   "cell_type": "code",
   "execution_count": 49,
   "id": "0cb3d87f",
   "metadata": {},
   "outputs": [
    {
     "data": {
      "text/plain": [
       "0    4.1\n",
       "1    4.1\n",
       "2    3.8\n",
       "3    3.7\n",
       "4    3.8\n",
       "Name: rating, dtype: float64"
      ]
     },
     "execution_count": 49,
     "metadata": {},
     "output_type": "execute_result"
    }
   ],
   "source": [
    "def rate(value):\n",
    "    if value=='NEW' or value=='-':\n",
    "        return int(0)\n",
    "    else:\n",
    "        value=value.split('/')\n",
    "        value=value[0]\n",
    "        return float(value)\n",
    "    \n",
    "zomato_df['rating']=zomato_df['rating'].apply(rate)\n",
    "zomato_df['rating'].head()"
   ]
  },
  {
   "cell_type": "code",
   "execution_count": 50,
   "id": "2bc7fd48",
   "metadata": {},
   "outputs": [
    {
     "data": {
      "text/plain": [
       "0"
      ]
     },
     "execution_count": 50,
     "metadata": {},
     "output_type": "execute_result"
    }
   ],
   "source": [
    "zomato_df['rating'].isnull().sum()"
   ]
  },
  {
   "cell_type": "code",
   "execution_count": 52,
   "id": "1c4b5d3b",
   "metadata": {},
   "outputs": [
    {
     "data": {
      "text/plain": [
       "0"
      ]
     },
     "execution_count": 52,
     "metadata": {},
     "output_type": "execute_result"
    }
   ],
   "source": [
    "zomato_df['rating'].fillna(zomato_df['rating'].mean(),inplace=True)\n",
    "zomato_df['rating'].isnull().sum()"
   ]
  },
  {
   "cell_type": "code",
   "execution_count": 53,
   "id": "c730d5e3",
   "metadata": {},
   "outputs": [
    {
     "data": {
      "text/plain": [
       "array(['Banashankari', 'Basavanagudi', 'Mysore Road', 'Jayanagar',\n",
       "       'Kumaraswamy Layout', 'Rajarajeshwari Nagar', 'Vijay Nagar',\n",
       "       'Uttarahalli', 'JP Nagar', 'South Bangalore', 'City Market',\n",
       "       'Bannerghatta Road', 'BTM', 'Kanakapura Road', 'Bommanahalli',\n",
       "       'CV Raman Nagar', 'Electronic City', 'Wilson Garden',\n",
       "       'Shanti Nagar', 'Koramangala 5th Block', 'Richmond Road', 'HSR',\n",
       "       'Marathahalli', 'Koramangala 7th Block', 'Bellandur',\n",
       "       'Sarjapur Road', 'Whitefield', 'East Bangalore',\n",
       "       'Old Airport Road', 'Indiranagar', 'Koramangala 1st Block',\n",
       "       'Frazer Town', 'MG Road', 'Brigade Road', 'Lavelle Road',\n",
       "       'Church Street', 'Ulsoor', 'Residency Road', 'Shivajinagar',\n",
       "       'Infantry Road', 'St. Marks Road', 'Cunningham Road',\n",
       "       'Race Course Road', 'Commercial Street', 'Vasanth Nagar', 'Domlur',\n",
       "       'Koramangala 8th Block', 'Ejipura', 'Jeevan Bhima Nagar',\n",
       "       'Old Madras Road', 'Seshadripuram', 'Kammanahalli',\n",
       "       'Koramangala 6th Block', 'Majestic', 'Langford Town',\n",
       "       'Central Bangalore', 'Sanjay Nagar', 'Brookefield',\n",
       "       'ITPL Main Road, Whitefield', 'Varthur Main Road, Whitefield',\n",
       "       'Koramangala 2nd Block', 'Koramangala 3rd Block',\n",
       "       'Koramangala 4th Block', 'Koramangala', 'Hosur Road',\n",
       "       'Rajajinagar', 'RT Nagar', 'Banaswadi', 'North Bangalore',\n",
       "       'Nagawara', 'Hennur', 'Kalyan Nagar', 'HBR Layout',\n",
       "       'Rammurthy Nagar', 'Thippasandra', 'Kaggadasapura', 'Hebbal',\n",
       "       'Kengeri', 'New BEL Road', 'Sankey Road', 'Malleshwaram',\n",
       "       'Sadashiv Nagar', 'Basaveshwara Nagar', 'Yeshwantpur',\n",
       "       'West Bangalore', 'Magadi Road', 'Yelahanka', 'Sahakara Nagar',\n",
       "       'Jalahalli', 'Nagarbhavi', 'Peenya', 'KR Puram'], dtype=object)"
      ]
     },
     "execution_count": 53,
     "metadata": {},
     "output_type": "execute_result"
    }
   ],
   "source": [
    "zomato_df['location'].unique()"
   ]
  },
  {
   "cell_type": "code",
   "execution_count": 54,
   "id": "b9b8e67f",
   "metadata": {},
   "outputs": [
    {
     "data": {
      "text/plain": [
       "0"
      ]
     },
     "execution_count": 54,
     "metadata": {},
     "output_type": "execute_result"
    }
   ],
   "source": [
    "zomato_df['location'].isnull().sum()"
   ]
  },
  {
   "cell_type": "code",
   "execution_count": 55,
   "id": "8d0182b5",
   "metadata": {},
   "outputs": [
    {
     "data": {
      "text/plain": [
       "BTM                      2228\n",
       "Indiranagar              1653\n",
       "Whitefield               1630\n",
       "Koramangala 5th Block    1577\n",
       "HSR                      1558\n",
       "                         ... \n",
       "Central Bangalore           5\n",
       "Yelahanka                   4\n",
       "Rajarajeshwari Nagar        2\n",
       "Nagarbhavi                  1\n",
       "Peenya                      1\n",
       "Name: location, Length: 92, dtype: int64"
      ]
     },
     "execution_count": 55,
     "metadata": {},
     "output_type": "execute_result"
    }
   ],
   "source": [
    "a=zomato_df['location'].value_counts(ascending=False)\n",
    "a"
   ]
  },
  {
   "cell_type": "code",
   "execution_count": 56,
   "id": "d9bc99a4",
   "metadata": {},
   "outputs": [
    {
     "data": {
      "text/plain": [
       "array(['800', '300', '600', '700', '550', '500', '450', '650', '400',\n",
       "       '900', '200', '750', '150', '850', '100', '1,200', '350', '250',\n",
       "       '950', '1,000', '1,500', '1,300', '199', '80', '1,100', '160',\n",
       "       '1,600', '230', '130', '1,700', '1,400', '1,350', '2,200', '2,000',\n",
       "       '1,800', '1,900', '180', '330', '2,500', '2,100', '3,000', '2,800',\n",
       "       '3,400', '50', '40', '1,250', '3,500', '4,000', '2,400', '2,600',\n",
       "       '1,450', '70', '3,200', '560', '240', '360', '6,000', '1,050',\n",
       "       '2,300', '4,100', '120', '5,000', '3,700', '1,650', '2,700',\n",
       "       '4,500'], dtype=object)"
      ]
     },
     "execution_count": 56,
     "metadata": {},
     "output_type": "execute_result"
    }
   ],
   "source": [
    "zomato_df['cost'].unique()"
   ]
  },
  {
   "cell_type": "code",
   "execution_count": 58,
   "id": "bb44a9b6",
   "metadata": {},
   "outputs": [],
   "source": [
    "def money(value):\n",
    "    value=str(value)\n",
    "    if ',' in value:\n",
    "        value=value.replace(',','')\n",
    "        return int(value)\n",
    "    else:\n",
    "        return int(value)\n",
    "\n",
    "zomato_df['cost']=zomato_df['cost'].apply(money)"
   ]
  },
  {
   "cell_type": "code",
   "execution_count": 60,
   "id": "fe2e6e76",
   "metadata": {},
   "outputs": [
    {
     "data": {
      "text/plain": [
       "array([ 800,  300,  600,  700,  550,  500,  450,  650,  400,  900,  200,\n",
       "        750,  150,  850,  100, 1200,  350,  250,  950, 1000, 1500, 1300,\n",
       "        199,   80, 1100,  160, 1600,  230,  130, 1700, 1400, 1350, 2200,\n",
       "       2000, 1800, 1900,  180,  330, 2500, 2100, 3000, 2800, 3400,   50,\n",
       "         40, 1250, 3500, 4000, 2400, 2600, 1450,   70, 3200,  560,  240,\n",
       "        360, 6000, 1050, 2300, 4100,  120, 5000, 3700, 1650, 2700, 4500],\n",
       "      dtype=int64)"
      ]
     },
     "execution_count": 60,
     "metadata": {},
     "output_type": "execute_result"
    }
   ],
   "source": [
    "zomato_df.cost.unique()"
   ]
  },
  {
   "cell_type": "code",
   "execution_count": 61,
   "id": "e2a86ec4",
   "metadata": {},
   "outputs": [
    {
     "data": {
      "text/plain": [
       "0"
      ]
     },
     "execution_count": 61,
     "metadata": {},
     "output_type": "execute_result"
    }
   ],
   "source": [
    "zomato_df['cost'].isnull().sum()"
   ]
  },
  {
   "cell_type": "code",
   "execution_count": 75,
   "id": "87c46696",
   "metadata": {},
   "outputs": [
    {
     "data": {
      "text/html": [
       "<div>\n",
       "<style scoped>\n",
       "    .dataframe tbody tr th:only-of-type {\n",
       "        vertical-align: middle;\n",
       "    }\n",
       "\n",
       "    .dataframe tbody tr th {\n",
       "        vertical-align: top;\n",
       "    }\n",
       "\n",
       "    .dataframe thead th {\n",
       "        text-align: right;\n",
       "    }\n",
       "</style>\n",
       "<table border=\"1\" class=\"dataframe\">\n",
       "  <thead>\n",
       "    <tr style=\"text-align: right;\">\n",
       "      <th></th>\n",
       "      <th>rest_type</th>\n",
       "    </tr>\n",
       "  </thead>\n",
       "  <tbody>\n",
       "    <tr>\n",
       "      <th>Quick Bites</th>\n",
       "      <td>10143</td>\n",
       "    </tr>\n",
       "    <tr>\n",
       "      <th>Casual Dining</th>\n",
       "      <td>7311</td>\n",
       "    </tr>\n",
       "    <tr>\n",
       "      <th>Cafe</th>\n",
       "      <td>2495</td>\n",
       "    </tr>\n",
       "    <tr>\n",
       "      <th>Dessert Parlor</th>\n",
       "      <td>1357</td>\n",
       "    </tr>\n",
       "    <tr>\n",
       "      <th>Delivery</th>\n",
       "      <td>1117</td>\n",
       "    </tr>\n",
       "    <tr>\n",
       "      <th>Takeaway, Delivery</th>\n",
       "      <td>965</td>\n",
       "    </tr>\n",
       "    <tr>\n",
       "      <th>Casual Dining, Bar</th>\n",
       "      <td>940</td>\n",
       "    </tr>\n",
       "    <tr>\n",
       "      <th>Bakery</th>\n",
       "      <td>547</td>\n",
       "    </tr>\n",
       "    <tr>\n",
       "      <th>Bar</th>\n",
       "      <td>456</td>\n",
       "    </tr>\n",
       "    <tr>\n",
       "      <th>Beverage Shop</th>\n",
       "      <td>417</td>\n",
       "    </tr>\n",
       "    <tr>\n",
       "      <th>Food Court</th>\n",
       "      <td>376</td>\n",
       "    </tr>\n",
       "    <tr>\n",
       "      <th>Bar, Casual Dining</th>\n",
       "      <td>349</td>\n",
       "    </tr>\n",
       "    <tr>\n",
       "      <th>Lounge</th>\n",
       "      <td>312</td>\n",
       "    </tr>\n",
       "    <tr>\n",
       "      <th>Pub</th>\n",
       "      <td>309</td>\n",
       "    </tr>\n",
       "    <tr>\n",
       "      <th>Fine Dining</th>\n",
       "      <td>266</td>\n",
       "    </tr>\n",
       "    <tr>\n",
       "      <th>Casual Dining, Cafe</th>\n",
       "      <td>250</td>\n",
       "    </tr>\n",
       "    <tr>\n",
       "      <th>Sweet Shop</th>\n",
       "      <td>218</td>\n",
       "    </tr>\n",
       "    <tr>\n",
       "      <th>Pub, Casual Dining</th>\n",
       "      <td>218</td>\n",
       "    </tr>\n",
       "    <tr>\n",
       "      <th>Beverage Shop, Quick Bites</th>\n",
       "      <td>168</td>\n",
       "    </tr>\n",
       "    <tr>\n",
       "      <th>Bakery, Quick Bites</th>\n",
       "      <td>154</td>\n",
       "    </tr>\n",
       "  </tbody>\n",
       "</table>\n",
       "</div>"
      ],
      "text/plain": [
       "                            rest_type\n",
       "Quick Bites                     10143\n",
       "Casual Dining                    7311\n",
       "Cafe                             2495\n",
       "Dessert Parlor                   1357\n",
       "Delivery                         1117\n",
       "Takeaway, Delivery                965\n",
       "Casual Dining, Bar                940\n",
       "Bakery                            547\n",
       "Bar                               456\n",
       "Beverage Shop                     417\n",
       "Food Court                        376\n",
       "Bar, Casual Dining                349\n",
       "Lounge                            312\n",
       "Pub                               309\n",
       "Fine Dining                       266\n",
       "Casual Dining, Cafe               250\n",
       "Sweet Shop                        218\n",
       "Pub, Casual Dining                218\n",
       "Beverage Shop, Quick Bites        168\n",
       "Bakery, Quick Bites               154"
      ]
     },
     "metadata": {},
     "output_type": "display_data"
    },
    {
     "data": {
      "text/plain": [
       "Text(0.5, 1.0, 'Restaurant types in Bangalore')"
      ]
     },
     "execution_count": 75,
     "metadata": {},
     "output_type": "execute_result"
    },
    {
     "data": {
      "image/png": "[encoded data removed]",
      "text/plain": [
       "<Figure size 855x475 with 1 Axes>"
      ]
     },
     "metadata": {
      "needs_background": "light"
     },
     "output_type": "display_data"
    }
   ],
   "source": [
    "type1=zomato_df['rest_type'].value_counts().head(20)\n",
    "display(type1.to_frame())\n",
    "plt.figure(figsize=(9,5),dpi=95)\n",
    "sns.barplot(x=type1,y= type1.index ,palette='bright')\n",
    "plt.title('Restaurant types in Bangalore')"
   ]
  },
  {
   "cell_type": "code",
   "execution_count": 82,
   "id": "46140fde",
   "metadata": {},
   "outputs": [
    {
     "data": {
      "text/html": [
       "<div>\n",
       "<style scoped>\n",
       "    .dataframe tbody tr th:only-of-type {\n",
       "        vertical-align: middle;\n",
       "    }\n",
       "\n",
       "    .dataframe tbody tr th {\n",
       "        vertical-align: top;\n",
       "    }\n",
       "\n",
       "    .dataframe thead th {\n",
       "        text-align: right;\n",
       "    }\n",
       "</style>\n",
       "<table border=\"1\" class=\"dataframe\">\n",
       "  <thead>\n",
       "    <tr style=\"text-align: right;\">\n",
       "      <th></th>\n",
       "      <th>votes</th>\n",
       "    </tr>\n",
       "    <tr>\n",
       "      <th>location</th>\n",
       "      <th></th>\n",
       "    </tr>\n",
       "  </thead>\n",
       "  <tbody>\n",
       "    <tr>\n",
       "      <th>Koramangala 5th Block</th>\n",
       "      <td>1984132</td>\n",
       "    </tr>\n",
       "    <tr>\n",
       "      <th>Indiranagar</th>\n",
       "      <td>1129994</td>\n",
       "    </tr>\n",
       "    <tr>\n",
       "      <th>Koramangala 4th Block</th>\n",
       "      <td>591240</td>\n",
       "    </tr>\n",
       "    <tr>\n",
       "      <th>Church Street</th>\n",
       "      <td>555228</td>\n",
       "    </tr>\n",
       "    <tr>\n",
       "      <th>JP Nagar</th>\n",
       "      <td>479180</td>\n",
       "    </tr>\n",
       "  </tbody>\n",
       "</table>\n",
       "</div>"
      ],
      "text/plain": [
       "                         votes\n",
       "location                      \n",
       "Koramangala 5th Block  1984132\n",
       "Indiranagar            1129994\n",
       "Koramangala 4th Block   591240\n",
       "Church Street           555228\n",
       "JP Nagar                479180"
      ]
     },
     "metadata": {},
     "output_type": "display_data"
    },
    {
     "name": "stdout",
     "output_type": "stream",
     "text": [
      "AxesSubplot(0.125,0.125;0.775x0.755)\n"
     ]
    },
    {
     "data": {
      "image/png": "[encoded data removed]",
      "text/plain": [
       "<Figure size 720x720 with 1 Axes>"
      ]
     },
     "metadata": {
      "needs_background": "light"
     },
     "output_type": "display_data"
    }
   ],
   "source": [
    "loc_vote=zomato_df.loc[:,['location','votes']]\n",
    "loc_vote=zomato_df.groupby('location')['votes'].sum()\n",
    "loc_vote=loc_vote.to_frame()\n",
    "loc_vote=loc_vote.sort_values(\"votes\",ascending=False)\n",
    "display(loc_vote.head())\n",
    "plt.figure(figsize=(10,10))\n",
    "pt=sns.barplot(y=loc_vote.index[:15],x=loc_vote['votes'][:15],palette='pastel',orient='h')\n",
    "plt.title('Best Location(votes) in Bangalore')\n",
    "print(pt)"
   ]
  },
  {
   "cell_type": "code",
   "execution_count": 86,
   "id": "773971e4",
   "metadata": {},
   "outputs": [
    {
     "data": {
      "text/html": [
       "<div>\n",
       "<style scoped>\n",
       "    .dataframe tbody tr th:only-of-type {\n",
       "        vertical-align: middle;\n",
       "    }\n",
       "\n",
       "    .dataframe tbody tr th {\n",
       "        vertical-align: top;\n",
       "    }\n",
       "\n",
       "    .dataframe thead th {\n",
       "        text-align: right;\n",
       "    }\n",
       "</style>\n",
       "<table border=\"1\" class=\"dataframe\">\n",
       "  <thead>\n",
       "    <tr style=\"text-align: right;\">\n",
       "      <th></th>\n",
       "      <th>rating</th>\n",
       "    </tr>\n",
       "    <tr>\n",
       "      <th>location</th>\n",
       "      <th></th>\n",
       "    </tr>\n",
       "  </thead>\n",
       "  <tbody>\n",
       "    <tr>\n",
       "      <th>BTM</th>\n",
       "      <td>7610.6</td>\n",
       "    </tr>\n",
       "    <tr>\n",
       "      <th>Koramangala 5th Block</th>\n",
       "      <td>6364.2</td>\n",
       "    </tr>\n",
       "    <tr>\n",
       "      <th>Indiranagar</th>\n",
       "      <td>6110.9</td>\n",
       "    </tr>\n",
       "    <tr>\n",
       "      <th>Whitefield</th>\n",
       "      <td>5576.6</td>\n",
       "    </tr>\n",
       "    <tr>\n",
       "      <th>HSR</th>\n",
       "      <td>5490.4</td>\n",
       "    </tr>\n",
       "  </tbody>\n",
       "</table>\n",
       "</div>"
      ],
      "text/plain": [
       "                       rating\n",
       "location                     \n",
       "BTM                    7610.6\n",
       "Koramangala 5th Block  6364.2\n",
       "Indiranagar            6110.9\n",
       "Whitefield             5576.6\n",
       "HSR                    5490.4"
      ]
     },
     "metadata": {},
     "output_type": "display_data"
    },
    {
     "name": "stdout",
     "output_type": "stream",
     "text": [
      "AxesSubplot(0.125,0.125;0.775x0.755)\n"
     ]
    },
    {
     "data": {
      "image/png": "[encoded data removed]",
      "text/plain": [
       "<Figure size 720x720 with 1 Axes>"
      ]
     },
     "metadata": {
      "needs_background": "light"
     },
     "output_type": "display_data"
    }
   ],
   "source": [
    "loc_rate=zomato_df.loc[:,['location','rating']]\n",
    "loc_rate=zomato_df.groupby('location')['rating'].sum()\n",
    "loc_rate=loc_rate.to_frame()\n",
    "loc_rate=loc_rate.sort_values(\"rating\",ascending=False)\n",
    "display(loc_rate.head())\n",
    "plt.figure(figsize=(10,10))\n",
    "pt=sns.barplot(y=loc_rate.index[:15],x=loc_rate['rating'][:15],palette='coolwarm',orient='h')\n",
    "plt.title('Best Location(rating)')\n",
    "print(pt)"
   ]
  },
  {
   "cell_type": "code",
   "execution_count": 90,
   "id": "a1f62d15",
   "metadata": {},
   "outputs": [
    {
     "data": {
      "image/png": "[encoded data removed]",
      "text/plain": [
       "<Figure size 2700x720 with 1 Axes>"
      ]
     },
     "metadata": {
      "needs_background": "light"
     },
     "output_type": "display_data"
    }
   ],
   "source": [
    "plt.figure(figsize=(30,8),dpi=90)\n",
    "plt.title('Location vs rating')\n",
    "sns.barplot(x=zomato_df['location'],y=zomato_df['rating'],data=zomato_df,palette='winter')\n",
    "plt.xticks(rotation=90)\n",
    "plt.show()"
   ]
  },
  {
   "cell_type": "code",
   "execution_count": 108,
   "id": "d30d5bf3",
   "metadata": {},
   "outputs": [
    {
     "name": "stderr",
     "output_type": "stream",
     "text": [
      "C:\\Users\\vhaja\\anaconda3\\lib\\site-packages\\seaborn\\_decorators.py:36: FutureWarning: Pass the following variable as a keyword arg: x. From version 0.12, the only valid positional argument will be `data`, and passing other arguments without an explicit keyword will result in an error or misinterpretation.\n",
      "  warnings.warn(\n"
     ]
    },
    {
     "data": {
      "image/png": "[encoded data removed]",
      "text/plain": [
       "<Figure size 1140x475 with 1 Axes>"
      ]
     },
     "metadata": {
      "needs_background": "light"
     },
     "output_type": "display_data"
    }
   ],
   "source": [
    "plt.figure(figsize=(12,5),dpi=95)\n",
    "sns.countplot(zomato_df['cost'])\n",
    "plt.xticks(rotation=90)\n",
    "plt.title('Cost of restaurant')\n",
    "plt.show()"
   ]
  },
  {
   "cell_type": "code",
   "execution_count": 109,
   "id": "ba3a7600",
   "metadata": {},
   "outputs": [
    {
     "data": {
      "text/html": [
       "<div>\n",
       "<style scoped>\n",
       "    .dataframe tbody tr th:only-of-type {\n",
       "        vertical-align: middle;\n",
       "    }\n",
       "\n",
       "    .dataframe tbody tr th {\n",
       "        vertical-align: top;\n",
       "    }\n",
       "\n",
       "    .dataframe thead th {\n",
       "        text-align: right;\n",
       "    }\n",
       "</style>\n",
       "<table border=\"1\" class=\"dataframe\">\n",
       "  <thead>\n",
       "    <tr style=\"text-align: right;\">\n",
       "      <th></th>\n",
       "      <th>votes</th>\n",
       "    </tr>\n",
       "    <tr>\n",
       "      <th>restaurants</th>\n",
       "      <th></th>\n",
       "    </tr>\n",
       "  </thead>\n",
       "  <tbody>\n",
       "    <tr>\n",
       "      <th>Byg Brewski Brewing Company</th>\n",
       "      <td>16588.500000</td>\n",
       "    </tr>\n",
       "    <tr>\n",
       "      <th>Toit</th>\n",
       "      <td>14956.000000</td>\n",
       "    </tr>\n",
       "    <tr>\n",
       "      <th>The Black Pearl</th>\n",
       "      <td>9562.333333</td>\n",
       "    </tr>\n",
       "    <tr>\n",
       "      <th>Big Pitcher</th>\n",
       "      <td>9164.500000</td>\n",
       "    </tr>\n",
       "    <tr>\n",
       "      <th>Arbor Brewing Company</th>\n",
       "      <td>8396.545455</td>\n",
       "    </tr>\n",
       "    <tr>\n",
       "      <th>Prost Brew Pub</th>\n",
       "      <td>7861.666667</td>\n",
       "    </tr>\n",
       "    <tr>\n",
       "      <th>Church Street Social</th>\n",
       "      <td>7561.727273</td>\n",
       "    </tr>\n",
       "    <tr>\n",
       "      <th>Truffles</th>\n",
       "      <td>7285.292683</td>\n",
       "    </tr>\n",
       "    <tr>\n",
       "      <th>Hoot</th>\n",
       "      <td>7257.000000</td>\n",
       "    </tr>\n",
       "    <tr>\n",
       "      <th>The Hole in the Wall Cafe</th>\n",
       "      <td>7124.875000</td>\n",
       "    </tr>\n",
       "  </tbody>\n",
       "</table>\n",
       "</div>"
      ],
      "text/plain": [
       "                                    votes\n",
       "restaurants                              \n",
       "Byg Brewski Brewing Company  16588.500000\n",
       "Toit                         14956.000000\n",
       "The Black Pearl               9562.333333\n",
       "Big Pitcher                   9164.500000\n",
       "Arbor Brewing Company         8396.545455\n",
       "Prost Brew Pub                7861.666667\n",
       "Church Street Social          7561.727273\n",
       "Truffles                      7285.292683\n",
       "Hoot                          7257.000000\n",
       "The Hole in the Wall Cafe     7124.875000"
      ]
     },
     "metadata": {},
     "output_type": "display_data"
    },
    {
     "data": {
      "image/png": "[encoded data removed]",
      "text/plain": [
       "<Figure size 855x475 with 1 Axes>"
      ]
     },
     "metadata": {
      "needs_background": "light"
     },
     "output_type": "display_data"
    }
   ],
   "source": [
    "vote=zomato_df.groupby('restaurants')['votes'].agg('mean').sort_values(ascending=False).head(10)\n",
    "plt.figure(figsize=(9,5),dpi=95)\n",
    "sns.barplot(y=vote.index,x=vote,orient='h')\n",
    "plt.title('Famous restaurant chains in Banglore(votes)')\n",
    "display(vote.to_frame())\n",
    "plt.show()"
   ]
  }
 ],
 "metadata": {
  "kernelspec": {
   "display_name": "Python 3 (ipykernel)",
   "language": "python",
   "name": "python3"
  },
  "language_info": {
   "codemirror_mode": {
    "name": "ipython",
    "version": 3
   },
   "file_extension": ".py",
   "mimetype": "text/x-python",
   "name": "python",
   "nbconvert_exporter": "python",
   "pygments_lexer": "ipython3",
   "version": "3.9.12"
  }
 },
 "nbformat": 4,
 "nbformat_minor": 5
}
